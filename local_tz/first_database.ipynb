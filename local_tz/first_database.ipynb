{
 "cells": [
  {
   "cell_type": "code",
   "execution_count": 1,
   "id": "e46def89",
   "metadata": {},
   "outputs": [],
   "source": [
    "import yfinance as yf\n",
    "import sqlite3"
   ]
  },
  {
   "cell_type": "code",
   "execution_count": 2,
   "id": "ab017648",
   "metadata": {},
   "outputs": [
    {
     "data": {
      "text/plain": [
       "{'zip': '98052-6399',\n",
       " 'sector': 'Technology',\n",
       " 'fullTimeEmployees': 181000,\n",
       " 'longBusinessSummary': 'Microsoft Corporation develops, licenses, and supports software, services, devices, and solutions worldwide. Its Productivity and Business Processes segment offers Office, Exchange, SharePoint, Microsoft Teams, Office 365 Security and Compliance, and Skype for Business, as well as related Client Access Licenses (CAL); Skype, Outlook.com, OneDrive, and LinkedIn; and Dynamics 365, a set of cloud-based and on-premises business solutions for organizations and enterprise divisions. Its Intelligent Cloud segment licenses SQL, Windows Servers, Visual Studio, System Center, and related CALs; GitHub that provides a collaboration platform and code hosting service for developers; and Azure, a cloud platform. It also offers support services and Microsoft consulting services to assist customers in developing, deploying, and managing Microsoft server and desktop solutions; and training and certification on Microsoft products. Its More Personal Computing segment provides Windows original equipment manufacturer (OEM) licensing and other non-volume licensing of the Windows operating system; Windows Commercial, such as volume licensing of the Windows operating system, Windows cloud services, and other Windows commercial offerings; patent licensing; Windows Internet of Things; and MSN advertising. It also offers Surface, PC accessories, PCs, tablets, gaming and entertainment consoles, and other devices; Gaming, including Xbox hardware, and Xbox content and services; video games and third-party video game royalties; and Search, including Bing and Microsoft advertising. It sells its products through OEMs, distributors, and resellers; and directly through digital marketplaces, online stores, and retail stores. It has collaborations with Dynatrace, Inc., Morgan Stanley, Micro Focus, WPP plc, ACI Worldwide, Inc., and iCIMS, Inc., as well as strategic relationships with Avaya Holdings Corp. and wejo Limited. Microsoft Corporation was founded in 1975 and is based in Redmond, Washington.',\n",
       " 'city': 'Redmond',\n",
       " 'phone': '425 882 8080',\n",
       " 'state': 'WA',\n",
       " 'country': 'United States',\n",
       " 'companyOfficers': [],\n",
       " 'website': 'http://www.microsoft.com',\n",
       " 'maxAge': 1,\n",
       " 'address1': 'One Microsoft Way',\n",
       " 'industry': 'Software—Infrastructure',\n",
       " 'ebitdaMargins': 0.48648998,\n",
       " 'profitMargins': 0.38515,\n",
       " 'grossMargins': 0.68864995,\n",
       " 'operatingCashflow': 81945001984,\n",
       " 'revenueGrowth': 0.22,\n",
       " 'operatingMargins': 0.42143002,\n",
       " 'ebitda': 85745000448,\n",
       " 'targetLowPrice': 299.93,\n",
       " 'recommendationKey': 'buy',\n",
       " 'grossProfits': 115856000000,\n",
       " 'freeCashflow': 49819750400,\n",
       " 'targetMedianPrice': 360,\n",
       " 'currentPrice': 332.43,\n",
       " 'earningsGrowth': 0.489,\n",
       " 'currentRatio': 2.165,\n",
       " 'returnOnAssets': 0.14589,\n",
       " 'numberOfAnalystOpinions': 38,\n",
       " 'targetMeanPrice': 357.27,\n",
       " 'debtToEquity': 51.938,\n",
       " 'returnOnEquity': 0.49303,\n",
       " 'targetHighPrice': 407,\n",
       " 'totalCash': 130584002560,\n",
       " 'totalDebt': 78934999040,\n",
       " 'totalRevenue': 176250994688,\n",
       " 'totalCashPerShare': 17.393,\n",
       " 'financialCurrency': 'USD',\n",
       " 'revenuePerShare': 23.395,\n",
       " 'quickRatio': 1.961,\n",
       " 'recommendationMean': 1.6,\n",
       " 'exchange': 'NMS',\n",
       " 'shortName': 'Microsoft Corporation',\n",
       " 'longName': 'Microsoft Corporation',\n",
       " 'exchangeTimezoneName': 'America/New_York',\n",
       " 'exchangeTimezoneShortName': 'EST',\n",
       " 'isEsgPopulated': False,\n",
       " 'gmtOffSetMilliseconds': '-18000000',\n",
       " 'quoteType': 'EQUITY',\n",
       " 'symbol': 'MSFT',\n",
       " 'messageBoardId': 'finmb_21835',\n",
       " 'market': 'us_market',\n",
       " 'annualHoldingsTurnover': None,\n",
       " 'enterpriseToRevenue': 13.798,\n",
       " 'beta3Year': None,\n",
       " 'enterpriseToEbitda': 28.363,\n",
       " '52WeekChange': 0.53546226,\n",
       " 'morningStarRiskRating': None,\n",
       " 'forwardEps': 10.51,\n",
       " 'revenueQuarterlyGrowth': None,\n",
       " 'sharesOutstanding': 7507979776,\n",
       " 'fundInceptionDate': None,\n",
       " 'annualReportExpenseRatio': None,\n",
       " 'totalAssets': None,\n",
       " 'bookValue': 20.242,\n",
       " 'sharesShort': 49332744,\n",
       " 'sharesPercentSharesOut': 0.0066000004,\n",
       " 'fundFamily': None,\n",
       " 'lastFiscalYearEnd': 1625011200,\n",
       " 'heldPercentInstitutions': 0.71958,\n",
       " 'netIncomeToCommon': 67882999808,\n",
       " 'trailingEps': 8.939,\n",
       " 'lastDividendValue': 0.56,\n",
       " 'SandP52WeekChange': 0.31373954,\n",
       " 'priceToBook': 16.422783,\n",
       " 'heldPercentInsiders': 0.00077,\n",
       " 'nextFiscalYearEnd': 1688083200,\n",
       " 'yield': None,\n",
       " 'mostRecentQuarter': 1632960000,\n",
       " 'shortRatio': 1.97,\n",
       " 'sharesShortPreviousMonthDate': 1632960000,\n",
       " 'floatShares': 7500247224,\n",
       " 'beta': 0.862337,\n",
       " 'enterpriseValue': 2431990890496,\n",
       " 'priceHint': 2,\n",
       " 'threeYearAverageReturn': None,\n",
       " 'lastSplitDate': 1045526400,\n",
       " 'lastSplitFactor': '2:1',\n",
       " 'legalType': None,\n",
       " 'lastDividendDate': 1629244800,\n",
       " 'morningStarOverallRating': None,\n",
       " 'earningsQuarterlyGrowth': 0.476,\n",
       " 'priceToSalesTrailing12Months': 14.160929,\n",
       " 'dateShortInterest': 1635465600,\n",
       " 'pegRatio': 2.21,\n",
       " 'ytdReturn': None,\n",
       " 'forwardPE': 31.629875,\n",
       " 'lastCapGain': None,\n",
       " 'shortPercentOfFloat': 0.0066000004,\n",
       " 'sharesShortPriorMonth': 47171313,\n",
       " 'impliedSharesOutstanding': None,\n",
       " 'category': None,\n",
       " 'fiveYearAverageReturn': None,\n",
       " 'previousClose': 330.8,\n",
       " 'regularMarketOpen': 331.25,\n",
       " 'twoHundredDayAverage': 282.83594,\n",
       " 'trailingAnnualDividendYield': 0.0069528418,\n",
       " 'payoutRatio': 0.25059998,\n",
       " 'volume24Hr': None,\n",
       " 'regularMarketDayHigh': 333.7746,\n",
       " 'navPrice': None,\n",
       " 'averageDailyVolume10Day': 23660712,\n",
       " 'regularMarketPreviousClose': 330.8,\n",
       " 'fiftyDayAverage': 308.00638,\n",
       " 'trailingAnnualDividendRate': 2.3,\n",
       " 'open': 331.25,\n",
       " 'toCurrency': None,\n",
       " 'averageVolume10days': 23660712,\n",
       " 'expireDate': None,\n",
       " 'algorithm': None,\n",
       " 'dividendRate': 2.48,\n",
       " 'exDividendDate': 1637107200,\n",
       " 'circulatingSupply': None,\n",
       " 'startDate': None,\n",
       " 'regularMarketDayLow': 331,\n",
       " 'currency': 'USD',\n",
       " 'trailingPE': 37.18872,\n",
       " 'regularMarketVolume': 14647814,\n",
       " 'lastMarket': None,\n",
       " 'maxSupply': None,\n",
       " 'openInterest': None,\n",
       " 'marketCap': 2495877742592,\n",
       " 'volumeAllCurrencies': None,\n",
       " 'strikePrice': None,\n",
       " 'averageVolume': 23605407,\n",
       " 'dayLow': 331,\n",
       " 'ask': 332.47,\n",
       " 'askSize': 800,\n",
       " 'volume': 14647814,\n",
       " 'fiftyTwoWeekHigh': 338.79,\n",
       " 'fromCurrency': None,\n",
       " 'fiveYearAvgDividendYield': 1.45,\n",
       " 'fiftyTwoWeekLow': 208.16,\n",
       " 'bid': 332.55,\n",
       " 'tradeable': False,\n",
       " 'dividendYield': 0.0075,\n",
       " 'bidSize': 1000,\n",
       " 'dayHigh': 333.7746,\n",
       " 'regularMarketPrice': 332.43,\n",
       " 'preMarketPrice': 331.41,\n",
       " 'logo_url': 'https://logo.clearbit.com/microsoft.com'}"
      ]
     },
     "execution_count": 2,
     "metadata": {},
     "output_type": "execute_result"
    }
   ],
   "source": [
    "msft = yf.Ticker(\"MSFT\")\n",
    "\n",
    "# get stock info\n",
    "msft.info"
   ]
  },
  {
   "cell_type": "code",
   "execution_count": 3,
   "id": "4845257d",
   "metadata": {},
   "outputs": [
    {
     "data": {
      "text/html": [
       "<div>\n",
       "<style scoped>\n",
       "    .dataframe tbody tr th:only-of-type {\n",
       "        vertical-align: middle;\n",
       "    }\n",
       "\n",
       "    .dataframe tbody tr th {\n",
       "        vertical-align: top;\n",
       "    }\n",
       "\n",
       "    .dataframe thead th {\n",
       "        text-align: right;\n",
       "    }\n",
       "</style>\n",
       "<table border=\"1\" class=\"dataframe\">\n",
       "  <thead>\n",
       "    <tr style=\"text-align: right;\">\n",
       "      <th></th>\n",
       "      <th>Open</th>\n",
       "      <th>High</th>\n",
       "      <th>Low</th>\n",
       "      <th>Close</th>\n",
       "      <th>Volume</th>\n",
       "      <th>Dividends</th>\n",
       "      <th>Stock Splits</th>\n",
       "    </tr>\n",
       "    <tr>\n",
       "      <th>Date</th>\n",
       "      <th></th>\n",
       "      <th></th>\n",
       "      <th></th>\n",
       "      <th></th>\n",
       "      <th></th>\n",
       "      <th></th>\n",
       "      <th></th>\n",
       "    </tr>\n",
       "  </thead>\n",
       "  <tbody>\n",
       "    <tr>\n",
       "      <th>1986-03-13</th>\n",
       "      <td>0.056001</td>\n",
       "      <td>0.064236</td>\n",
       "      <td>0.056001</td>\n",
       "      <td>0.061491</td>\n",
       "      <td>1031788800</td>\n",
       "      <td>0.0</td>\n",
       "      <td>0.0</td>\n",
       "    </tr>\n",
       "    <tr>\n",
       "      <th>1986-03-14</th>\n",
       "      <td>0.061491</td>\n",
       "      <td>0.064785</td>\n",
       "      <td>0.061491</td>\n",
       "      <td>0.063687</td>\n",
       "      <td>308160000</td>\n",
       "      <td>0.0</td>\n",
       "      <td>0.0</td>\n",
       "    </tr>\n",
       "    <tr>\n",
       "      <th>1986-03-17</th>\n",
       "      <td>0.063687</td>\n",
       "      <td>0.065334</td>\n",
       "      <td>0.063687</td>\n",
       "      <td>0.064785</td>\n",
       "      <td>133171200</td>\n",
       "      <td>0.0</td>\n",
       "      <td>0.0</td>\n",
       "    </tr>\n",
       "    <tr>\n",
       "      <th>1986-03-18</th>\n",
       "      <td>0.064785</td>\n",
       "      <td>0.065334</td>\n",
       "      <td>0.062589</td>\n",
       "      <td>0.063138</td>\n",
       "      <td>67766400</td>\n",
       "      <td>0.0</td>\n",
       "      <td>0.0</td>\n",
       "    </tr>\n",
       "    <tr>\n",
       "      <th>1986-03-19</th>\n",
       "      <td>0.063138</td>\n",
       "      <td>0.063687</td>\n",
       "      <td>0.061491</td>\n",
       "      <td>0.062040</td>\n",
       "      <td>47894400</td>\n",
       "      <td>0.0</td>\n",
       "      <td>0.0</td>\n",
       "    </tr>\n",
       "  </tbody>\n",
       "</table>\n",
       "</div>"
      ],
      "text/plain": [
       "                Open      High       Low     Close      Volume  Dividends  \\\n",
       "Date                                                                        \n",
       "1986-03-13  0.056001  0.064236  0.056001  0.061491  1031788800        0.0   \n",
       "1986-03-14  0.061491  0.064785  0.061491  0.063687   308160000        0.0   \n",
       "1986-03-17  0.063687  0.065334  0.063687  0.064785   133171200        0.0   \n",
       "1986-03-18  0.064785  0.065334  0.062589  0.063138    67766400        0.0   \n",
       "1986-03-19  0.063138  0.063687  0.061491  0.062040    47894400        0.0   \n",
       "\n",
       "            Stock Splits  \n",
       "Date                      \n",
       "1986-03-13           0.0  \n",
       "1986-03-14           0.0  \n",
       "1986-03-17           0.0  \n",
       "1986-03-18           0.0  \n",
       "1986-03-19           0.0  "
      ]
     },
     "execution_count": 3,
     "metadata": {},
     "output_type": "execute_result"
    }
   ],
   "source": [
    "# get historical market data\n",
    "hist = msft.history(period=\"max\")\n",
    "hist.head()"
   ]
  },
  {
   "cell_type": "code",
   "execution_count": 4,
   "id": "5f04ab3f",
   "metadata": {},
   "outputs": [
    {
     "name": "stdout",
     "output_type": "stream",
     "text": [
      "8992\n"
     ]
    }
   ],
   "source": [
    "print(len(hist.index))"
   ]
  },
  {
   "cell_type": "code",
   "execution_count": 2,
   "id": "17751fae",
   "metadata": {},
   "outputs": [],
   "source": [
    "conn = sqlite3.connect('stocks.db')\n",
    "# hist.to_sql('microsoft_prices', conn, if_exists='replace')"
   ]
  },
  {
   "cell_type": "code",
   "execution_count": 3,
   "id": "f87dc8b0",
   "metadata": {},
   "outputs": [
    {
     "name": "stdout",
     "output_type": "stream",
     "text": [
      "(1, '1986-03-13 00:00:00', 0.056000735817692125, 0.06423621243211956, 0.056000735817692125, 0.061490632593631744, 1031788800, 0.0, 0.0, None)\n",
      "(8992, '2021-11-11 00:00:00', 331.25, 333.77459716796875, 331.0, 332.42999267578125, 14647814, 0.0, 0.0, None)\n"
     ]
    }
   ],
   "source": [
    "c = conn.cursor()\n",
    "c.execute(\"SELECT rowid, * FROM microsoft_prices\")\n",
    "items = c.fetchall()\n",
    "print(items[0])\n",
    "print(items[-1])"
   ]
  },
  {
   "cell_type": "markdown",
   "id": "ccc807ca",
   "metadata": {},
   "source": [
    "#### PRAGMA schema.table_info(table-name);\n",
    "\n",
    "This pragma returns one row for each column in the named table. Columns in the result set include the column name, data type, whether or not the column can be NULL, and the default value for the column. The \"pk\" column in the result set is zero for columns that are not part of the primary key, and is the index of the column in the primary key for columns that are part of the primary key.\n",
    "\n",
    "The table named in the table_info pragma can also be a view."
   ]
  },
  {
   "cell_type": "code",
   "execution_count": 29,
   "id": "9bd97cd5",
   "metadata": {},
   "outputs": [
    {
     "name": "stdout",
     "output_type": "stream",
     "text": [
      "[(0, 'Date', 'TIMESTAMP', 0, None, 0), (1, 'Open', 'REAL', 0, None, 0), (2, 'High', 'REAL', 0, None, 0), (3, 'Low', 'REAL', 0, None, 0), (4, 'Close', 'REAL', 0, None, 0), (5, 'Volume', 'INTEGER', 0, None, 0), (6, 'Dividends', 'REAL', 0, None, 0), (7, 'Stock Splits', 'REAL', 0, None, 0), (8, 'year', 'INTEGER', 0, None, 0)]\n"
     ]
    }
   ],
   "source": [
    "c.execute(\"PRAGMA table_info(microsoft_prices)\")\n",
    "dtypes = c.fetchall()\n",
    "print(dtypes)"
   ]
  },
  {
   "cell_type": "code",
   "execution_count": null,
   "id": "833b4de9",
   "metadata": {},
   "outputs": [],
   "source": [
    "c.execute(\"\"\"ALTER TABLE microsoft_prices\n",
    "ADD COLUMN year INTEGER\n",
    "\"\"\")\n",
    "conn.commit()"
   ]
  },
  {
   "cell_type": "code",
   "execution_count": null,
   "id": "ad773e3f",
   "metadata": {},
   "outputs": [],
   "source": []
  },
  {
   "cell_type": "code",
   "execution_count": null,
   "id": "b37776c4",
   "metadata": {},
   "outputs": [],
   "source": [
    "conn.close()"
   ]
  }
 ],
 "metadata": {
  "kernelspec": {
   "display_name": "Python 3",
   "language": "python",
   "name": "python3"
  },
  "language_info": {
   "codemirror_mode": {
    "name": "ipython",
    "version": 3
   },
   "file_extension": ".py",
   "mimetype": "text/x-python",
   "name": "python",
   "nbconvert_exporter": "python",
   "pygments_lexer": "ipython3",
   "version": "3.7.11"
  }
 },
 "nbformat": 4,
 "nbformat_minor": 5
}
