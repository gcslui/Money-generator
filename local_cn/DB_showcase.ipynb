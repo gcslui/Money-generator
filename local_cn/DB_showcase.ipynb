{
 "cells": [
  {
   "cell_type": "code",
   "execution_count": null,
   "id": "a1f6f60f",
   "metadata": {},
   "outputs": [],
   "source": [
    "%load_ext autoreload\n",
    "%autoreload 2"
   ]
  },
  {
   "cell_type": "code",
   "execution_count": 1,
   "id": "ab6c4844",
   "metadata": {},
   "outputs": [],
   "source": [
    "from local_yfinance_DB import SecuritiesDB"
   ]
  },
  {
   "cell_type": "markdown",
   "id": "9cd707ef",
   "metadata": {},
   "source": [
    "## From a fresh start, initialize DB:"
   ]
  },
  {
   "cell_type": "code",
   "execution_count": 2,
   "id": "af61d4c3",
   "metadata": {},
   "outputs": [],
   "source": [
    "stocksDB = SecuritiesDB()\n",
    "stocksDB.initialize_schema()"
   ]
  },
  {
   "cell_type": "markdown",
   "id": "3388e0d5",
   "metadata": {},
   "source": [
    "## Add some tickers to populate DB"
   ]
  },
  {
   "cell_type": "code",
   "execution_count": 3,
   "id": "86da5007",
   "metadata": {},
   "outputs": [
    {
     "name": "stdout",
     "output_type": "stream",
     "text": [
      "MSFT  data downloaded and populated in tables. \n",
      "AAPL  data downloaded and populated in tables. \n",
      "HUT  data downloaded and populated in tables. \n",
      "HUT.TO  data downloaded and populated in tables. \n",
      "SPY  data downloaded and populated in tables. \n",
      "CADUSD=X  data downloaded and populated in tables. \n",
      "BTC-USD  data downloaded and populated in tables. \n",
      "ETH-USD  data downloaded and populated in tables. \n",
      "ETHX-U.TO  data downloaded and populated in tables. \n"
     ]
    }
   ],
   "source": [
    "tickers=['MSFT', 'AAPL', 'HUT', 'HUT.TO', 'SPY', 'CADUSD=X', 'BTC-USD', 'ETH-USD', 'ETHX-U.TO']\n",
    "\n",
    "stocksDB.add_tickers(tickers)"
   ]
  },
  {
   "cell_type": "markdown",
   "id": "15316ff3",
   "metadata": {},
   "source": [
    "## What does a table look like?"
   ]
  },
  {
   "cell_type": "code",
   "execution_count": 4,
   "id": "d33ca447",
   "metadata": {
    "scrolled": true
   },
   "outputs": [
    {
     "name": "stdout",
     "output_type": "stream",
     "text": [
      "[(1, 'MSFT', 'Microsoft Corporation', 'NMS', 'USD', 'EQUITY'), (2, 'AAPL', 'Apple Inc.', 'NMS', 'USD', 'EQUITY'), (3, 'HUT', 'Hut 8 Mining Corp.', 'NMS', 'USD', 'EQUITY'), (4, 'HUT.TO', 'Hut 8 Mining Corp.', 'TOR', 'CAD', 'EQUITY'), (5, 'SPY', 'SPDR S&P 500 ETF Trust', 'PCX', 'USD', 'ETF'), (6, 'CADUSD=X', None, 'CCY', 'USD', 'CURRENCY'), (7, 'BTC-USD', None, 'CCC', 'USD', 'CRYPTOCURRENCY'), (8, 'ETH-USD', None, 'CCC', 'USD', 'CRYPTOCURRENCY'), (9, 'ETHX-U.TO', 'CI Galaxy Ethereum ETF', 'TOR', 'USD', 'ETF')]\n",
      "[(1, 'Microsoft Corporation', 'Technology', 'United States', 'MSFT'), (2, 'Apple Inc.', 'Technology', 'United States', 'AAPL'), (3, 'Hut 8 Mining Corp.', 'Financial Services', 'Canada', 'HUT'), (4, 'Hut 8 Mining Corp.', 'Financial Services', 'Canada', 'HUT.TO'), (5, 'SPDR S&P 500 ETF Trust', None, None, 'SPY'), (6, None, None, None, 'CADUSD=X'), (7, None, None, None, 'BTC-USD'), (8, None, None, None, 'ETH-USD'), (9, 'CI Galaxy Ethereum ETF', None, None, 'ETHX-U.TO')]\n"
     ]
    }
   ],
   "source": [
    "print(stocksDB.get_table(\"security\"))\n",
    "print(stocksDB.get_table(\"company\"))"
   ]
  },
  {
   "cell_type": "markdown",
   "id": "40868e04",
   "metadata": {},
   "source": [
    "## Imagine DB already exists and is populated. Create instance of DB object then retrieve timeseries as a pandas df"
   ]
  },
  {
   "cell_type": "code",
   "execution_count": 15,
   "id": "1ba4fe6e",
   "metadata": {},
   "outputs": [],
   "source": [
    "instanceDB = SecuritiesDB()"
   ]
  },
  {
   "cell_type": "code",
   "execution_count": 16,
   "id": "2c060f01",
   "metadata": {},
   "outputs": [
    {
     "name": "stdout",
     "output_type": "stream",
     "text": [
      "['AAPL', 'BTC-USD', 'CADUSD=X', 'ETH-USD', 'ETHX-U.TO', 'HUT', 'HUT.TO', 'MSFT', 'SPY']\n"
     ]
    }
   ],
   "source": [
    "print(instanceDB.get_present_tickers())"
   ]
  },
  {
   "cell_type": "code",
   "execution_count": 17,
   "id": "85e6c690",
   "metadata": {},
   "outputs": [
    {
     "name": "stdout",
     "output_type": "stream",
     "text": [
      "                  date      open      high       low     close  \\\n",
      "0  1980-12-12 00:00:00  0.128348  0.128906  0.128348  0.128348   \n",
      "1  1980-12-15 00:00:00  0.122210  0.122210  0.121652  0.121652   \n",
      "2  1980-12-16 00:00:00  0.113281  0.113281  0.112723  0.112723   \n",
      "3  1980-12-17 00:00:00  0.115513  0.116071  0.115513  0.115513   \n",
      "4  1980-12-18 00:00:00  0.118862  0.119420  0.118862  0.118862   \n",
      "\n",
      "   adjusted_close     volume security_ticker  \n",
      "0        0.100453  469033600            AAPL  \n",
      "1        0.095213  175884800            AAPL  \n",
      "2        0.088224  105728000            AAPL  \n",
      "3        0.090408   86441600            AAPL  \n",
      "4        0.093029   73449600            AAPL  \n"
     ]
    }
   ],
   "source": [
    "print(instanceDB.get_daily_per_ticker(\"AAPL\").head())"
   ]
  },
  {
   "cell_type": "code",
   "execution_count": 8,
   "id": "53062db7",
   "metadata": {},
   "outputs": [
    {
     "name": "stdout",
     "output_type": "stream",
     "text": [
      "                  date        open        high         low       close  \\\n",
      "0  2021-11-09 09:30:00  337.107086  337.750000  336.769989  337.119995   \n",
      "1  2021-11-09 09:31:00  337.209991  337.790009  337.209991  337.364990   \n",
      "2  2021-11-09 09:32:00  337.385010  337.750000  337.299988  337.600006   \n",
      "3  2021-11-09 09:33:00  337.589996  337.733398  337.119995  337.579987   \n",
      "4  2021-11-09 09:34:00  337.500000  337.519989  337.359985  337.420013   \n",
      "\n",
      "   adjusted_close  volume security_ticker  \n",
      "0      337.119995  798944            MSFT  \n",
      "1      337.364990   85660            MSFT  \n",
      "2      337.600006   78572            MSFT  \n",
      "3      337.579987   85942            MSFT  \n",
      "4      337.420013  102642            MSFT  \n"
     ]
    }
   ],
   "source": [
    "print(instanceDB.get_minutely_per_ticker(\"MSFT\").head())"
   ]
  },
  {
   "cell_type": "code",
   "execution_count": 9,
   "id": "00cdc691",
   "metadata": {},
   "outputs": [
    {
     "name": "stdout",
     "output_type": "stream",
     "text": [
      "                  date  dividends  stock_splits security_ticker\n",
      "0  1987-09-21 00:00:00        0.0           2.0            MSFT\n",
      "1  1990-04-16 00:00:00        0.0           2.0            MSFT\n",
      "2  1991-06-27 00:00:00        0.0           1.5            MSFT\n",
      "3  1992-06-15 00:00:00        0.0           1.5            MSFT\n",
      "4  1994-05-23 00:00:00        0.0           2.0            MSFT\n"
     ]
    }
   ],
   "source": [
    "print(instanceDB.get_actions_per_ticker(\"MSFT\").head())"
   ]
  },
  {
   "cell_type": "markdown",
   "id": "068679fb",
   "metadata": {},
   "source": [
    "## Can also update DB using update() until dividend or split present for particular stock"
   ]
  },
  {
   "cell_type": "code",
   "execution_count": 10,
   "id": "2cb53812",
   "metadata": {},
   "outputs": [
    {
     "name": "stdout",
     "output_type": "stream",
     "text": [
      "AAPL  data already up to date.\n",
      "BTC-USD  data already up to date.\n",
      "CADUSD=X  data already up to date.\n",
      "ETH-USD  data already up to date.\n",
      "ETHX-U.TO  data already up to date.\n",
      "HUT  data already up to date.\n",
      "HUT.TO  data already up to date.\n",
      "MSFT  data already up to date.\n",
      "SPY  data already up to date.\n"
     ]
    }
   ],
   "source": [
    "instanceDB.update()"
   ]
  },
  {
   "cell_type": "code",
   "execution_count": null,
   "id": "04a1d320",
   "metadata": {},
   "outputs": [],
   "source": []
  }
 ],
 "metadata": {
  "kernelspec": {
   "display_name": "Python 3",
   "language": "python",
   "name": "python3"
  },
  "language_info": {
   "codemirror_mode": {
    "name": "ipython",
    "version": 3
   },
   "file_extension": ".py",
   "mimetype": "text/x-python",
   "name": "python",
   "nbconvert_exporter": "python",
   "pygments_lexer": "ipython3",
   "version": "3.6.9"
  }
 },
 "nbformat": 4,
 "nbformat_minor": 5
}
