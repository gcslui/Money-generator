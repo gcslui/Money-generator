{
 "cells": [
  {
   "cell_type": "code",
   "execution_count": 1,
   "id": "2e3531f3",
   "metadata": {},
   "outputs": [],
   "source": [
    "from src.db_class import FinanceDB\n",
    "import yfinance as yf"
   ]
  },
  {
   "cell_type": "code",
   "execution_count": 4,
   "id": "4e48da96",
   "metadata": {},
   "outputs": [],
   "source": [
    "db = FinanceDB('first.db')"
   ]
  },
  {
   "cell_type": "code",
   "execution_count": 5,
   "id": "cb46e750",
   "metadata": {},
   "outputs": [
    {
     "name": "stdout",
     "output_type": "stream",
     "text": [
      "[*********************100%***********************]  1 of 1 completed\n"
     ]
    }
   ],
   "source": [
    "data = yf.download(\"SPY\", start=\"2017-01-01\", end=\"2017-04-30\")"
   ]
  },
  {
   "cell_type": "code",
   "execution_count": null,
   "id": "bd8c16e4",
   "metadata": {},
   "outputs": [],
   "source": [
    "print(data)"
   ]
  }
 ],
 "metadata": {
  "kernelspec": {
   "display_name": "Python 3 (ipykernel)",
   "language": "python",
   "name": "python3"
  },
  "language_info": {
   "codemirror_mode": {
    "name": "ipython",
    "version": 3
   },
   "file_extension": ".py",
   "mimetype": "text/x-python",
   "name": "python",
   "nbconvert_exporter": "python",
   "pygments_lexer": "ipython3",
   "version": "3.8.10"
  }
 },
 "nbformat": 4,
 "nbformat_minor": 5
}
