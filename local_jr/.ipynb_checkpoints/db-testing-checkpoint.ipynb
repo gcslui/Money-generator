{
 "cells": [
  {
   "cell_type": "code",
   "execution_count": 4,
   "id": "6911ae22",
   "metadata": {},
   "outputs": [],
   "source": [
    "import numpy, os\n",
    "import sqlite3 as sql\n",
    "import yfinance as yf\n",
    "import pandas as pd\n",
    "\n",
    "from src.db_default import db_tables, db_dir, db_tickers"
   ]
  },
  {
   "cell_type": "code",
   "execution_count": null,
   "id": "2e3531f3",
   "metadata": {},
   "outputs": [],
   "source": [
    "class DBCursor():\n",
    "    \"\"\"\n",
    "    This class saves having to write code to connect to the database and create\n",
    "    a cursor every time. Instead, use\n",
    "\n",
    "    with DBCursor(file) as cursor:\n",
    "        cursor.execute()\n",
    "\n",
    "    Once outside of the with statement it will commit and close the database\n",
    "    automatically too.\n",
    "    \"\"\"\n",
    "    def __init__(self, db_filename):\n",
    "        self.db_filename = db_filename\n",
    "        return None\n",
    "\n",
    "    def __enter__(self):\n",
    "        self.connection = sql.connect( self.db_filename )\n",
    "        self.cursor = self.connection.cursor()\n",
    "        return self.cursor\n",
    "\n",
    "    def __exit__(self, exc_type, exc_value, traceback):\n",
    "        self.connection.commit()\n",
    "        self.connection.close()\n",
    "        if exc_type is not None:\n",
    "            traceback.print_exception(exc_type, exc_value, traceback)\n",
    "        return\n",
    "\n",
    "class FinanceDB():\n",
    "    \"\"\"\n",
    "    For now, this database creates tables and then lets people add to it depending on\n",
    "    what stocks they're interested in. However, once we have a remote database, it will\n",
    "    probably be necessary to have separate code that constructs/maintains database and\n",
    "    code that interacts with it.\n",
    "\n",
    "    Input\n",
    "        db_filename (str) : file where database is/will be saved.\n",
    "    \"\"\"\n",
    "    def __init__(self, db_filename):\n",
    "        self.dir = os.path.join(os.getcwd(), db_dir)\n",
    "        self.db = os.path.join(self.dir, db_filename)\n",
    "        if not os.path.isdir( self.dir ):\n",
    "            os.makedirs( self.dir )\n",
    "\n",
    "        with DBCursor( self.db ) as cursor:\n",
    "            for tables in db_tables:\n",
    "                cursor.execute(f\"CREATE TABLE IF NOT EXISTS {tables}\")\n",
    "\n",
    "            for ticker in db_tickers:\n",
    "                self.add_security(ticker)\n",
    "                #add_security_price_daily(ticker)\n",
    "\n",
    "    def add_security(self, ticker):\n",
    "        if not isinstance(ticker, yf.ticker.Ticker): ticker = yf.Ticker(ticker)\n",
    "        info = ticker.info\n",
    "        empty_key = 'NULL'\n",
    "        with DBCursor( self.db ) as cursor:\n",
    "            # ticker info\n",
    "            ticker_attr = ( info.get('symbol',empty_key), info.get('longName',empty_key),\n",
    "                            info.get('exchange',empty_key),\n",
    "                            info.get('financialCurrency',empty_key) )\n",
    "            cursor.execute('''INSERT OR REPLACE INTO security\n",
    "                                    ( ticker, company, exchange, currency )\n",
    "                                    VALUES (?,?,?,?)''', ticker_attr )\n",
    "\n",
    "            # exchange info\n",
    "            exchange_attr = ( info.get('exchange',empty_key), info.get('exchangeName',empty_key),\n",
    "                                info.get('exchangeTimezoneShortName',empty_key) )\n",
    "            cursor.execute('''INSERT OR REPLACE INTO exchange\n",
    "                                    ( acronym, name, time_zone )\n",
    "                                    VALUES (?,?,?)''', exchange_attr)\n",
    "\n",
    "            # company info\n",
    "            company_attr = ( info.get('longName',empty_key), info.get('sector',empty_key),\n",
    "                            info.get('industry',empty_key), info.get('country',empty_key),\n",
    "                            info.get('market',empty_key), info.get('fullTimeEmployees',empty_key),\n",
    "                            info.get('website',empty_key) )\n",
    "            cursor.execute('''INSERT OR REPLACE INTO company\n",
    "                ( name, sector, industry, country, market, employees, website )\n",
    "                VALUES (?,?,?,?,?,?,?)''', company_attr )\n",
    "            \n",
    "            # ADD TABLE ABOUT STOCK ADJUSTMENT\n",
    "\n",
    "    def add_security_price_daily(self, ticker, start=None, end=None):\n",
    "\n",
    "        self.add_security(ticker)\n",
    "\n",
    "        if start is None:\n",
    "            time_series = yf.download(ticker, period='max')#, threads=True) # ask CN why\n",
    "        else:\n",
    "            times_series = yf.download(ticker, start=start, end=end)#, threads=True) # ask CN why\n",
    "\n",
    "        time_series.index = time_series.index.strftime(\"%Y-%m-%d\")\n",
    "\n",
    "        time_series_tuples = time_series.to_records(index=True)\n",
    "        \n",
    "        list_time_series = [(*tuple([ticker]),*record) for record in time_series_tuples]\n",
    "        \n",
    "        with DBCursor( self.db ) as cursor:\n",
    "            cursor.executemany('''INSERT OR REPLACE INTO security_price VALUES\n",
    "                                    (?,?,?,?,?,?,?,?)''', list_time_series)\n",
    "            \n",
    "        return 0\n",
    "\n",
    "    def add_security_price_minutely(self, ticker, start=None, end=None):\n",
    "        \n",
    "        self.add_security(ticker)\n",
    "\n",
    "        if start is None:\n",
    "            time_series = yf.download(ticker, period='1mo')#, threads=True) # ask CN why\n",
    "        else:\n",
    "            times_series = yf.download(ticker, start=start, end=end, interval='1m')#, threads=True)\n",
    "\n",
    "        time_series.index = time_series.index.strftime(\"%Y-%m-%d %H:%M:%S\")\n",
    "\n",
    "        time_series_tuples = time_series.to_records(index=True)\n",
    "        \n",
    "        list_time_series = [(*tuple([ticker]),*record) for record in time_series_tuples]\n",
    "        \n",
    "        with DBCursor( self.db ) as cursor:\n",
    "            cursor.executemany('''INSERT OR REPLACE INTO security_price_intraday VALUES\n",
    "                                    (?,?,?,?,?,?,?,?)''', list(time_series_tuples))\n",
    "            \n",
    "        return 0\n",
    "\n",
    "    def execute(self, sql_command):\n",
    "        with DBCursor( self.db ) as cursor:\n",
    "            cursor.execute( sql_command )\n",
    "        return 0\n"
   ]
  },
  {
   "cell_type": "code",
   "execution_count": 100,
   "id": "4e48da96",
   "metadata": {},
   "outputs": [],
   "source": [
    "db = FinanceDB('first.db')"
   ]
  },
  {
   "cell_type": "code",
   "execution_count": 101,
   "id": "cb46e750",
   "metadata": {},
   "outputs": [
    {
     "name": "stdout",
     "output_type": "stream",
     "text": [
      "[*********************100%***********************]  1 of 1 completed\n",
      "over\n"
     ]
    },
    {
     "data": {
      "text/plain": [
       "0"
      ]
     },
     "execution_count": 101,
     "metadata": {},
     "output_type": "execute_result"
    }
   ],
   "source": [
    "db.add_security_price_daily('MSFT')"
   ]
  },
  {
   "cell_type": "code",
   "execution_count": 52,
   "id": "bd8c16e4",
   "metadata": {},
   "outputs": [
    {
     "ename": "AttributeError",
     "evalue": "'Index' object has no attribute 'strftime'",
     "output_type": "error",
     "traceback": [
      "\u001b[0;31m---------------------------------------------------------------------------\u001b[0m",
      "\u001b[0;31mAttributeError\u001b[0m                            Traceback (most recent call last)",
      "\u001b[0;32m/tmp/ipykernel_12165/1702739316.py\u001b[0m in \u001b[0;36m<module>\u001b[0;34m\u001b[0m\n\u001b[0;32m----> 1\u001b[0;31m \u001b[0mtime_series2\u001b[0m\u001b[0;34m.\u001b[0m\u001b[0mindex\u001b[0m \u001b[0;34m=\u001b[0m \u001b[0mtime_series2\u001b[0m\u001b[0;34m.\u001b[0m\u001b[0mindex\u001b[0m\u001b[0;34m.\u001b[0m\u001b[0mstrftime\u001b[0m\u001b[0;34m(\u001b[0m\u001b[0;34m\"%Y-%m-%d\"\u001b[0m\u001b[0;34m)\u001b[0m\u001b[0;34m\u001b[0m\u001b[0;34m\u001b[0m\u001b[0m\n\u001b[0m\u001b[1;32m      2\u001b[0m \u001b[0;34m\u001b[0m\u001b[0m\n\u001b[1;32m      3\u001b[0m \u001b[0mtime_series_formatted\u001b[0m \u001b[0;34m=\u001b[0m \u001b[0mtime_series2\u001b[0m\u001b[0;34m.\u001b[0m\u001b[0mitertuples\u001b[0m\u001b[0;34m(\u001b[0m\u001b[0;34m)\u001b[0m\u001b[0;34m\u001b[0m\u001b[0;34m\u001b[0m\u001b[0m\n\u001b[1;32m      4\u001b[0m \u001b[0mdata2\u001b[0m \u001b[0;34m=\u001b[0m \u001b[0mtuple\u001b[0m\u001b[0;34m(\u001b[0m\u001b[0mtime_series_formatted\u001b[0m\u001b[0;34m)\u001b[0m\u001b[0;34m\u001b[0m\u001b[0;34m\u001b[0m\u001b[0m\n\u001b[1;32m      5\u001b[0m \u001b[0;34m\u001b[0m\u001b[0m\n",
      "\u001b[0;31mAttributeError\u001b[0m: 'Index' object has no attribute 'strftime'"
     ]
    }
   ],
   "source": []
  },
  {
   "cell_type": "code",
   "execution_count": 51,
   "id": "7fc1a317",
   "metadata": {},
   "outputs": [
    {
     "data": {
      "text/plain": [
       "DatetimeIndex(['2021-11-24 09:30:00-05:00', '2021-11-24 09:31:00-05:00',\n",
       "               '2021-11-24 09:32:00-05:00', '2021-11-24 09:33:00-05:00',\n",
       "               '2021-11-24 09:34:00-05:00', '2021-11-24 09:35:00-05:00',\n",
       "               '2021-11-24 09:36:00-05:00', '2021-11-24 09:37:00-05:00',\n",
       "               '2021-11-24 09:38:00-05:00', '2021-11-24 09:39:00-05:00',\n",
       "               ...\n",
       "               '2021-11-24 15:51:00-05:00', '2021-11-24 15:52:00-05:00',\n",
       "               '2021-11-24 15:53:00-05:00', '2021-11-24 15:54:00-05:00',\n",
       "               '2021-11-24 15:55:00-05:00', '2021-11-24 15:56:00-05:00',\n",
       "               '2021-11-24 15:57:00-05:00', '2021-11-24 15:58:00-05:00',\n",
       "               '2021-11-24 15:59:00-05:00', '2021-11-24 16:00:00-05:00'],\n",
       "              dtype='datetime64[ns, America/New_York]', name='Datetime', length=391, freq=None)"
      ]
     },
     "execution_count": 51,
     "metadata": {},
     "output_type": "execute_result"
    }
   ],
   "source": [
    "data.index"
   ]
  },
  {
   "cell_type": "code",
   "execution_count": null,
   "id": "d581945c",
   "metadata": {},
   "outputs": [],
   "source": []
  }
 ],
 "metadata": {
  "kernelspec": {
   "display_name": "Python 3 (ipykernel)",
   "language": "python",
   "name": "python3"
  },
  "language_info": {
   "codemirror_mode": {
    "name": "ipython",
    "version": 3
   },
   "file_extension": ".py",
   "mimetype": "text/x-python",
   "name": "python",
   "nbconvert_exporter": "python",
   "pygments_lexer": "ipython3",
   "version": "3.8.10"
  }
 },
 "nbformat": 4,
 "nbformat_minor": 5
}
