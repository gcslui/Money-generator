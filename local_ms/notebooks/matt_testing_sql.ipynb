{
 "cells": [
  {
   "cell_type": "markdown",
   "id": "requested-comment",
   "metadata": {},
   "source": [
    "# SQLite3 examples\n",
    "\n",
    "common commands:\n",
    "- CREATE\n",
    "- DROP \n",
    "- INSERT\n",
    "- SELECT\n",
    "- ALTER\n",
    "- UPDATE"
   ]
  },
  {
   "cell_type": "code",
   "execution_count": 1,
   "id": "advance-league",
   "metadata": {},
   "outputs": [],
   "source": [
    "import sqlite3"
   ]
  },
  {
   "cell_type": "code",
   "execution_count": 2,
   "id": "heated-impossible",
   "metadata": {},
   "outputs": [],
   "source": [
    "# need variable for the 'connection' to database dbname\n",
    "dbname = 'dbtesting.db'\n",
    "connection = sqlite3.connect(dbname)"
   ]
  },
  {
   "cell_type": "code",
   "execution_count": 3,
   "id": "ongoing-runner",
   "metadata": {},
   "outputs": [],
   "source": [
    "# need a \"cursor\" to interact with the database\n",
    "cursor = connection.cursor()\n",
    "\n",
    "# close the connection (best practice?)\n",
    "connection.close()"
   ]
  },
  {
   "cell_type": "markdown",
   "id": "numeric-fitness",
   "metadata": {},
   "source": [
    "**Example: creating a table**"
   ]
  },
  {
   "cell_type": "code",
   "execution_count": 4,
   "id": "overhead-cleanup",
   "metadata": {},
   "outputs": [],
   "source": [
    "# treating these two as \"header lines\" for any modular db interactions\n",
    "connection = sqlite3.connect(dbname)\n",
    "cursor = connection.cursor()"
   ]
  },
  {
   "cell_type": "code",
   "execution_count": 5,
   "id": "silent-october",
   "metadata": {},
   "outputs": [],
   "source": [
    "# example: creating a table\n",
    "# note 1: case matters within execute()\n",
    "# note 2: triple quotes for multiple lines, one line if using single quotes\n",
    "# note 3: there are only 5 datatypes to choose from for SQLite3\n",
    "#  a) NULL\n",
    "#  b) INTEGER\n",
    "#  c) REAL\n",
    "#  d) TEXT\n",
    "#  e) BLOB (e.g. image or music file; store \"as is\")\n",
    "cursor.execute(\"\"\"CREATE TABLE customers (\n",
    "        first_name TEXT,\n",
    "        last_name TEXT,\n",
    "        email TEXT\n",
    "    )\"\"\")\n",
    "\n",
    "# changes need to be \"committed\" to the database\n",
    "connection.commit()\n",
    "\n",
    "# close the connection\n",
    "connection.close()"
   ]
  },
  {
   "cell_type": "markdown",
   "id": "referenced-sarah",
   "metadata": {},
   "source": [
    "**Example: re-open the db and add data to table**"
   ]
  },
  {
   "cell_type": "code",
   "execution_count": 6,
   "id": "ecological-journal",
   "metadata": {},
   "outputs": [],
   "source": [
    "connection = sqlite3.connect(dbname)\n",
    "cursor = connection.cursor()\n",
    "\n",
    "cursor.execute(\"INSERT INTO customers VALUES ('John', 'Smith', 'js@js.com')\")\n",
    "cursor.execute(\"INSERT INTO customers VALUES ('Mary', 'Smith', 'ms@ms.com')\")\n",
    "cursor.execute(\"INSERT INTO customers VALUES ('Donald', 'Duck', 'duck@disney.com')\")\n",
    "\n",
    "connection.commit()\n",
    "connection.close()"
   ]
  },
  {
   "cell_type": "markdown",
   "id": "rapid-mapping",
   "metadata": {},
   "source": [
    "**Example: queries, fetching from the database**\n",
    "\n",
    "- note: within a connection, these fetches appear to affect eachother,\n",
    "- e.g. calling fetchone() twice will return first two elements in sequence\n",
    "- e.g. calling fetchall() once returns whole table, again returns empty list\n",
    "- can add or omit rowid from the fetch\n",
    "  - omit: \"SELECT * FROM customers\"\n",
    "  - add: \"SELECT rowid, * FROM customers\""
   ]
  },
  {
   "cell_type": "code",
   "execution_count": 7,
   "id": "interior-needle",
   "metadata": {},
   "outputs": [
    {
     "name": "stdout",
     "output_type": "stream",
     "text": [
      "s1 <class 'tuple'>\n",
      "s2 <class 'list'>\n",
      "s3 <class 'list'>\n",
      "\n",
      "s1: ('John', 'Smith', 'js@js.com')\n",
      "s2: [('Mary', 'Smith', 'ms@ms.com'), ('Donald', 'Duck', 'duck@disney.com')]\n",
      "s3: []\n",
      "\n",
      "Calling fetchall() after all the above calls... is empty\n",
      "[]\n"
     ]
    }
   ],
   "source": [
    "connection = sqlite3.connect(dbname)\n",
    "cursor = connection.cursor()\n",
    "\n",
    "cursor.execute(\"SELECT * FROM customers\")\n",
    "\n",
    "s1 = cursor.fetchone()    # fetches first row\n",
    "s2 = cursor.fetchmany(3)  # fetches next n=3 rows\n",
    "s3 = cursor.fetchall()    # fetches (remainder of) whole table\n",
    "\n",
    "print('s1', type(s1))\n",
    "print('s2', type(s2))\n",
    "print('s3', type(s3))\n",
    "\n",
    "print('\\ns1:', s1)\n",
    "print('s2:', s2)\n",
    "print('s3:', s3)\n",
    "\n",
    "print('\\nCalling fetchall() after all the above calls... is empty',)\n",
    "print(cursor.fetchall())  # see note in markdown above\n",
    "\n",
    "connection.commit()\n",
    "connection.close()"
   ]
  },
  {
   "cell_type": "code",
   "execution_count": 8,
   "id": "tribal-yorkshire",
   "metadata": {
    "scrolled": true
   },
   "outputs": [
    {
     "name": "stdout",
     "output_type": "stream",
     "text": [
      "(1, 'John', 'Smith', 'js@js.com')\n",
      "(2, 'Mary', 'Smith', 'ms@ms.com')\n",
      "(3, 'Donald', 'Duck', 'duck@disney.com')\n"
     ]
    }
   ],
   "source": [
    "connection = sqlite3.connect(dbname)\n",
    "cursor = connection.cursor()\n",
    "\n",
    "cursor.execute(\"SELECT rowid, * FROM customers\")\n",
    "\n",
    "fulltable = cursor.fetchall()    # fetches whole table\n",
    "\n",
    "for elem in fulltable:\n",
    "    print(elem)\n",
    "\n",
    "connection.commit()\n",
    "connection.close()"
   ]
  },
  {
   "cell_type": "markdown",
   "id": "reflected-minnesota",
   "metadata": {},
   "source": [
    "**Example: more detailed queries using WHERE**\n",
    "- for numeric values can use >, =, <, etc. \n",
    "- can use AND/OR, for example: `WHERE email LIKE '%.com' OR rowid = 3`"
   ]
  },
  {
   "cell_type": "code",
   "execution_count": 9,
   "id": "acting-yeast",
   "metadata": {
    "scrolled": true
   },
   "outputs": [
    {
     "name": "stdout",
     "output_type": "stream",
     "text": [
      "(1, 'John', 'Smith', 'js@js.com')\n",
      "(2, 'Mary', 'Smith', 'ms@ms.com')\n"
     ]
    }
   ],
   "source": [
    "connection = sqlite3.connect(dbname)\n",
    "cursor = connection.cursor()\n",
    "\n",
    "cursor.execute(\"SELECT rowid, * FROM customers WHERE last_name = 'Smith'\")\n",
    "\n",
    "fulltable = cursor.fetchall()    # fetches whole table\n",
    "\n",
    "for elem in fulltable:\n",
    "    print(elem)\n",
    "\n",
    "connection.commit()\n",
    "connection.close()"
   ]
  },
  {
   "cell_type": "code",
   "execution_count": 10,
   "id": "hungry-communist",
   "metadata": {},
   "outputs": [
    {
     "name": "stdout",
     "output_type": "stream",
     "text": [
      "(1, 'John', 'Smith', 'js@js.com')\n",
      "(2, 'Mary', 'Smith', 'ms@ms.com')\n",
      "(3, 'Donald', 'Duck', 'duck@disney.com')\n"
     ]
    }
   ],
   "source": [
    "connection = sqlite3.connect(dbname)\n",
    "cursor = connection.cursor()\n",
    "\n",
    "cursor.execute(\"SELECT rowid, * FROM customers WHERE email LIKE '%@%.com'\")\n",
    "\n",
    "fulltable = cursor.fetchall()    # fetches whole table\n",
    "\n",
    "for elem in fulltable:\n",
    "    print(elem)\n",
    "\n",
    "connection.commit()\n",
    "connection.close()"
   ]
  },
  {
   "cell_type": "markdown",
   "id": "heavy-technical",
   "metadata": {},
   "source": [
    "**Example: post-processing queries with LIMIT and ORDER BY**"
   ]
  },
  {
   "cell_type": "code",
   "execution_count": 12,
   "id": "nasty-pavilion",
   "metadata": {},
   "outputs": [
    {
     "name": "stdout",
     "output_type": "stream",
     "text": [
      "Full data:\n",
      "(1, 'John', 'Smith', 'js@js.com')\n",
      "(2, 'Mary', 'Smith', 'ms@ms.com')\n",
      "(3, 'Donald', 'Duck', 'duck@disney.com')\n",
      "Modified fetch:\n",
      "(3, 'Donald', 'Duck', 'duck@disney.com')\n",
      "(2, 'Mary', 'Smith', 'ms@ms.com')\n"
     ]
    }
   ],
   "source": [
    "connection = sqlite3.connect(dbname)\n",
    "cursor = connection.cursor()\n",
    "\n",
    "print('Full data:')\n",
    "cursor.execute(\"SELECT rowid, * FROM customers\")\n",
    "for elem in cursor.fetchall():\n",
    "    print(elem)\n",
    "\n",
    "print('Modified fetch:')\n",
    "cursor.execute(\"SELECT rowid, * FROM customers ORDER BY rowid DESC LIMIT 2\")\n",
    "for elem in cursor.fetchall():\n",
    "    print(elem)\n",
    "\n",
    "connection.commit()\n",
    "connection.close()"
   ]
  },
  {
   "cell_type": "markdown",
   "id": "connected-prague",
   "metadata": {},
   "source": [
    "**Example: updating tables**"
   ]
  },
  {
   "cell_type": "code",
   "execution_count": null,
   "id": "italian-butterfly",
   "metadata": {},
   "outputs": [],
   "source": [
    "connection = sqlite3.connect(dbname)\n",
    "cursor = connection.cursor()\n",
    "\n",
    "print('Before update:')\n",
    "cursor.execute(\"SELECT rowid, * FROM customers\")\n",
    "data_before = cursor.fetchall()\n",
    "for elem in data_before:\n",
    "    print(elem)\n",
    "\n",
    "cursor.execute(\"\"\"UPDATE customers SET first_name = 'Jeb'\n",
    "        WHERE rowid = 1\n",
    "    \"\"\")\n",
    "\n",
    "print('After update:')\n",
    "cursor.execute(\"SELECT rowid, * FROM customers\")\n",
    "data_after = cursor.fetchall()\n",
    "for elem in data_after:\n",
    "    print(elem)\n",
    "\n",
    "connection.commit()\n",
    "connection.close()"
   ]
  },
  {
   "cell_type": "markdown",
   "id": "every-trunk",
   "metadata": {},
   "source": [
    "**Example: delete a row**"
   ]
  },
  {
   "cell_type": "code",
   "execution_count": null,
   "id": "studied-handbook",
   "metadata": {},
   "outputs": [],
   "source": [
    "connection = sqlite3.connect(dbname)\n",
    "cursor = connection.cursor()\n",
    "\n",
    "print('Before update:')\n",
    "cursor.execute(\"SELECT rowid, * FROM customers\")\n",
    "data_before = cursor.fetchall()\n",
    "for elem in data_before:\n",
    "    print(elem)\n",
    "\n",
    "cursor.execute(\"DELETE FROM customers WHERE rowid = 1\")\n",
    "\n",
    "print('After update:')\n",
    "cursor.execute(\"SELECT rowid, * FROM customers\")\n",
    "data_after = cursor.fetchall()\n",
    "for elem in data_after:\n",
    "    print(elem)\n",
    "\n",
    "connection.commit()\n",
    "connection.close()"
   ]
  },
  {
   "cell_type": "markdown",
   "id": "every-legislation",
   "metadata": {},
   "source": [
    "**Example: deleting tables**"
   ]
  },
  {
   "cell_type": "code",
   "execution_count": null,
   "id": "persistent-immunology",
   "metadata": {},
   "outputs": [],
   "source": [
    "connection = sqlite3.connect(dbname)\n",
    "cursor = connection.cursor()\n",
    "\n",
    "cursor.execute(\"DROP TABLE customers\")\n",
    "\n",
    "connection.commit()\n",
    "connection.close()"
   ]
  },
  {
   "cell_type": "code",
   "execution_count": null,
   "id": "colored-ozone",
   "metadata": {},
   "outputs": [],
   "source": []
  },
  {
   "cell_type": "markdown",
   "id": "medieval-channel",
   "metadata": {},
   "source": [
    "# Working with yf database in progress"
   ]
  },
  {
   "cell_type": "code",
   "execution_count": 21,
   "id": "ambient-title",
   "metadata": {},
   "outputs": [],
   "source": [
    "import sqlite3\n",
    "import yfinance as yf\n",
    "\n",
    "dbname_yf = 'database_yfinance.db'"
   ]
  },
  {
   "cell_type": "code",
   "execution_count": 22,
   "id": "searching-consultation",
   "metadata": {},
   "outputs": [
    {
     "name": "stdout",
     "output_type": "stream",
     "text": [
      "[('HUT.TO',)]\n"
     ]
    }
   ],
   "source": [
    "connection = sqlite3.connect(dbname_yf)\n",
    "cursor = connection.cursor()\n",
    "\n",
    "ticker_str = 'HUT.TO'\n",
    "cursor.execute(\"SELECT symbol FROM {} WHERE symbol=(?)\".format('tickers'), (ticker_str,))\n",
    "print(cursor.fetchall())\n",
    "\n",
    "connection.commit()\n",
    "connection.close()"
   ]
  },
  {
   "cell_type": "code",
   "execution_count": 33,
   "id": "narrow-anime",
   "metadata": {},
   "outputs": [],
   "source": [
    "ticker_str = \"HUT.TO\"\n",
    "ticker = yf.Ticker(ticker_str)"
   ]
  },
  {
   "cell_type": "code",
   "execution_count": 38,
   "id": "associate-deficit",
   "metadata": {},
   "outputs": [
    {
     "name": "stdout",
     "output_type": "stream",
     "text": [
      "tablename is HUT.TO_days\n",
      "table created...\n"
     ]
    },
    {
     "ename": "NameError",
     "evalue": "name 'hist' is not defined",
     "output_type": "error",
     "traceback": [
      "\u001b[1;31m---------------------------------------------------------------------------\u001b[0m",
      "\u001b[1;31mNameError\u001b[0m                                 Traceback (most recent call last)",
      "\u001b[1;32m<ipython-input-38-8c2f0e04d2df>\u001b[0m in \u001b[0;36m<module>\u001b[1;34m\u001b[0m\n\u001b[0;32m     38\u001b[0m     \u001b[1;31m# Fill table using historical data\u001b[0m\u001b[1;33m\u001b[0m\u001b[1;33m\u001b[0m\u001b[1;33m\u001b[0m\u001b[0m\n\u001b[0;32m     39\u001b[0m     cursor.executemany(\"INSERT INTO {} values (?,?,?,?,?,?)\".format(tablename),\n\u001b[1;32m---> 40\u001b[1;33m                        \u001b[1;33m(\u001b[0m\u001b[0mhist\u001b[0m\u001b[1;33m.\u001b[0m\u001b[0mvalues\u001b[0m\u001b[1;33m.\u001b[0m\u001b[0mtolist\u001b[0m\u001b[1;33m(\u001b[0m\u001b[1;33m)\u001b[0m\u001b[1;33m)\u001b[0m\u001b[1;33m\u001b[0m\u001b[1;33m\u001b[0m\u001b[0m\n\u001b[0m\u001b[0;32m     41\u001b[0m                        )\n\u001b[0;32m     42\u001b[0m \u001b[1;32mif\u001b[0m \u001b[0mverbose\u001b[0m\u001b[1;33m:\u001b[0m\u001b[1;33m\u001b[0m\u001b[1;33m\u001b[0m\u001b[0m\n",
      "\u001b[1;31mNameError\u001b[0m: name 'hist' is not defined"
     ]
    }
   ],
   "source": [
    "connection = sqlite3.connect(dbname_yf)\n",
    "cursor = connection.cursor()\n",
    "\n",
    "# Add ticker specific tables (e.g. MSFT_days, MSFT_minutes)\n",
    "for timescale in ['days']:\n",
    "    if timescale == 'minutes':\n",
    "        # can get intraday data up to 60d back, but can only pull 7d per download\n",
    "        hist = ticker.history(period='7d', interval='1m', actions=False)\n",
    "        hist.reset_index(inplace=True)\n",
    "        hist['Datetime'] = hist['Datetime'].astype(str)\n",
    "    \n",
    "    tablename = '%s_%s' % (ticker_str, timescale)\n",
    "    \n",
    "    print('tablename is', tablename)\n",
    "    \n",
    "    # Create table header\n",
    "    '''\n",
    "    cursor.execute(\"\"\"CREATE TABLE %s (\n",
    "        date TEXT,\n",
    "        open REAL,\n",
    "        high REAL,\n",
    "        low REAL,\n",
    "        close REAL,\n",
    "        volume INTEGER\n",
    "    )\"\"\".format(tablename))'''\n",
    "    \n",
    "    cursor.execute(\"\"\"CREATE TABLE '%s' (\n",
    "        date TEXT,\n",
    "        open REAL,\n",
    "        high REAL,\n",
    "        low REAL,\n",
    "        close REAL,\n",
    "        volume INTEGER\n",
    "    )\"\"\" % tablename)\n",
    "    \n",
    "    \n",
    "    print('table created...')\n",
    "    # Fill table using historical data\n",
    "    cursor.executemany(\"INSERT INTO {} values (?,?,?,?,?,?)\".format(tablename),\n",
    "                       (hist.values.tolist())\n",
    "                       )\n",
    "if verbose:\n",
    "    print('\\tTicker-specific table %s generated' % tablename)\n",
    "\n",
    "connection.commit()\n",
    "connection.close()"
   ]
  },
  {
   "cell_type": "code",
   "execution_count": 51,
   "id": "korean-stability",
   "metadata": {},
   "outputs": [
    {
     "name": "stdout",
     "output_type": "stream",
     "text": [
      "[('HUT.TO', 'CAD', 'EQUITY', 'ca_market', 'TOR', 'Hut 8 Mining Corp.')]\n"
     ]
    }
   ],
   "source": [
    "ticker_str = 'HUT.TO'\n",
    "\n",
    "connection = sqlite3.connect(dbname_yf)\n",
    "cursor = connection.cursor()\n",
    "\n",
    "execute_str = \"SELECT * FROM tickers WHERE symbol=(?)\"\n",
    "cursor.execute(execute_str, [ticker_str])\n",
    "print(cursor.fetchall())\n",
    "\n",
    "connection.commit()\n",
    "connection.close()"
   ]
  },
  {
   "cell_type": "code",
   "execution_count": null,
   "id": "theoretical-determination",
   "metadata": {},
   "outputs": [],
   "source": []
  }
 ],
 "metadata": {
  "kernelspec": {
   "display_name": "Python 3",
   "language": "python",
   "name": "python3"
  },
  "language_info": {
   "codemirror_mode": {
    "name": "ipython",
    "version": 3
   },
   "file_extension": ".py",
   "mimetype": "text/x-python",
   "name": "python",
   "nbconvert_exporter": "python",
   "pygments_lexer": "ipython3",
   "version": "3.8.7"
  }
 },
 "nbformat": 4,
 "nbformat_minor": 5
}
