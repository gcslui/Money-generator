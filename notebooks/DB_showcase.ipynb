{
 "cells": [
  {
   "cell_type": "code",
   "execution_count": 11,
   "id": "a1f6f60f",
   "metadata": {},
   "outputs": [
    {
     "name": "stdout",
     "output_type": "stream",
     "text": [
      "The autoreload extension is already loaded. To reload it, use:\n",
      "  %reload_ext autoreload\n"
     ]
    }
   ],
   "source": [
    "%load_ext autoreload\n",
    "%autoreload 2"
   ]
  },
  {
   "cell_type": "code",
   "execution_count": 12,
   "id": "ab6c4844",
   "metadata": {},
   "outputs": [],
   "source": [
    "import sys\n",
    "sys.path.append('../')\n",
    "from src.db_class import FinanceDB"
   ]
  },
  {
   "cell_type": "markdown",
   "id": "9cd707ef",
   "metadata": {},
   "source": [
    "## From a fresh start, initialize DB:"
   ]
  },
  {
   "cell_type": "code",
   "execution_count": 14,
   "id": "af61d4c3",
   "metadata": {},
   "outputs": [],
   "source": [
    "stocksDB = FinanceDB(\"chris_test.db\") "
   ]
  },
  {
   "cell_type": "markdown",
   "id": "3388e0d5",
   "metadata": {},
   "source": [
    "## Add some tickers to populate DB"
   ]
  },
  {
   "cell_type": "code",
   "execution_count": 16,
   "id": "86da5007",
   "metadata": {},
   "outputs": [
    {
     "name": "stdout",
     "output_type": "stream",
     "text": [
      "\n",
      "1 Failed download:\n",
      "- MSFT: No data found for this date range, symbol may be delisted\n"
     ]
    },
    {
     "ename": "AttributeError",
     "evalue": "'traceback' object has no attribute 'print_exception'",
     "output_type": "error",
     "traceback": [
      "\u001b[0;31m---------------------------------------------------------------------------\u001b[0m",
      "\u001b[0;31mAttributeError\u001b[0m                            Traceback (most recent call last)",
      "\u001b[0;32m/media/houdini/0139245001B836F3/MGenerator/Money-generator/src/db_class.py\u001b[0m in \u001b[0;36madd_tickers\u001b[0;34m(self)\u001b[0m\n\u001b[1;32m    113\u001b[0m                     \u001b[0mtime_series_minutely\u001b[0m\u001b[0;34m[\u001b[0m\u001b[0;34m'security_ticker'\u001b[0m\u001b[0;34m]\u001b[0m \u001b[0;34m=\u001b[0m \u001b[0;34m[\u001b[0m\u001b[0msymbol\u001b[0m\u001b[0;34m]\u001b[0m \u001b[0;34m*\u001b[0m \u001b[0mlen\u001b[0m\u001b[0;34m(\u001b[0m\u001b[0mtime_series_minutely\u001b[0m\u001b[0;34m.\u001b[0m\u001b[0mindex\u001b[0m\u001b[0;34m)\u001b[0m\u001b[0;34m\u001b[0m\u001b[0;34m\u001b[0m\u001b[0m\n\u001b[0;32m--> 114\u001b[0;31m                     \u001b[0mtime_series_minutely\u001b[0m\u001b[0;34m.\u001b[0m\u001b[0mindex\u001b[0m \u001b[0;34m=\u001b[0m \u001b[0mtime_series_minutely\u001b[0m\u001b[0;34m.\u001b[0m\u001b[0mindex\u001b[0m\u001b[0;34m.\u001b[0m\u001b[0mstrftime\u001b[0m\u001b[0;34m(\u001b[0m\u001b[0;34m\"%Y-%m-%d %H:%M:%S\"\u001b[0m\u001b[0;34m)\u001b[0m\u001b[0;34m\u001b[0m\u001b[0;34m\u001b[0m\u001b[0m\n\u001b[0m\u001b[1;32m    115\u001b[0m \u001b[0;34m\u001b[0m\u001b[0m\n",
      "\u001b[0;31mAttributeError\u001b[0m: 'Index' object has no attribute 'strftime'",
      "\nDuring handling of the above exception, another exception occurred:\n",
      "\u001b[0;31mAttributeError\u001b[0m                            Traceback (most recent call last)",
      "\u001b[0;32m<ipython-input-16-c1d67237acdb>\u001b[0m in \u001b[0;36m<module>\u001b[0;34m\u001b[0m\n\u001b[0;32m----> 1\u001b[0;31m \u001b[0mstocksDB\u001b[0m\u001b[0;34m.\u001b[0m\u001b[0madd_tickers\u001b[0m\u001b[0;34m(\u001b[0m\u001b[0;34m)\u001b[0m\u001b[0;34m\u001b[0m\u001b[0;34m\u001b[0m\u001b[0m\n\u001b[0m",
      "\u001b[0;32m/media/houdini/0139245001B836F3/MGenerator/Money-generator/src/db_class.py\u001b[0m in \u001b[0;36madd_tickers\u001b[0;34m(self)\u001b[0m\n\u001b[1;32m    132\u001b[0m                 \u001b[0mwildcards\u001b[0m \u001b[0;34m=\u001b[0m \u001b[0;34m','\u001b[0m\u001b[0;34m.\u001b[0m\u001b[0mjoin\u001b[0m\u001b[0;34m(\u001b[0m\u001b[0;34m[\u001b[0m\u001b[0;34m'?'\u001b[0m\u001b[0;34m]\u001b[0m \u001b[0;34m*\u001b[0m \u001b[0;36m4\u001b[0m\u001b[0;34m)\u001b[0m\u001b[0;34m\u001b[0m\u001b[0;34m\u001b[0m\u001b[0m\n\u001b[1;32m    133\u001b[0m \u001b[0;34m\u001b[0m\u001b[0m\n\u001b[0;32m--> 134\u001b[0;31m                 \u001b[0mcursor\u001b[0m\u001b[0;34m.\u001b[0m\u001b[0mexecutemany\u001b[0m\u001b[0;34m(\u001b[0m\u001b[0;34m\"INSERT OR IGNORE INTO actions VALUES (%s)\"\u001b[0m \u001b[0;34m%\u001b[0m \u001b[0mwildcards\u001b[0m\u001b[0;34m,\u001b[0m \u001b[0mdata\u001b[0m\u001b[0;34m)\u001b[0m\u001b[0;34m\u001b[0m\u001b[0;34m\u001b[0m\u001b[0m\n\u001b[0m\u001b[1;32m    135\u001b[0m \u001b[0;34m\u001b[0m\u001b[0m\n\u001b[1;32m    136\u001b[0m             \u001b[0mprint\u001b[0m\u001b[0;34m(\u001b[0m\u001b[0msymbol\u001b[0m\u001b[0;34m,\u001b[0m \u001b[0;34m\" data downloaded and populated in tables. \"\u001b[0m\u001b[0;34m)\u001b[0m\u001b[0;34m\u001b[0m\u001b[0;34m\u001b[0m\u001b[0m\n",
      "\u001b[0;32m/media/houdini/0139245001B836F3/MGenerator/Money-generator/src/db_class.py\u001b[0m in \u001b[0;36m__exit__\u001b[0;34m(self, exc_type, exc_value, traceback)\u001b[0m\n\u001b[1;32m     34\u001b[0m         \u001b[0mself\u001b[0m\u001b[0;34m.\u001b[0m\u001b[0mconnection\u001b[0m\u001b[0;34m.\u001b[0m\u001b[0mclose\u001b[0m\u001b[0;34m(\u001b[0m\u001b[0;34m)\u001b[0m\u001b[0;34m\u001b[0m\u001b[0;34m\u001b[0m\u001b[0m\n\u001b[1;32m     35\u001b[0m         \u001b[0;32mif\u001b[0m \u001b[0mexc_type\u001b[0m \u001b[0;32mis\u001b[0m \u001b[0;32mnot\u001b[0m \u001b[0;32mNone\u001b[0m\u001b[0;34m:\u001b[0m\u001b[0;34m\u001b[0m\u001b[0;34m\u001b[0m\u001b[0m\n\u001b[0;32m---> 36\u001b[0;31m             \u001b[0mtraceback\u001b[0m\u001b[0;34m.\u001b[0m\u001b[0mprint_exception\u001b[0m\u001b[0;34m(\u001b[0m\u001b[0mexc_type\u001b[0m\u001b[0;34m,\u001b[0m \u001b[0mexc_value\u001b[0m\u001b[0;34m,\u001b[0m \u001b[0mtraceback\u001b[0m\u001b[0;34m)\u001b[0m\u001b[0;34m\u001b[0m\u001b[0;34m\u001b[0m\u001b[0m\n\u001b[0m\u001b[1;32m     37\u001b[0m         \u001b[0;32mreturn\u001b[0m\u001b[0;34m\u001b[0m\u001b[0;34m\u001b[0m\u001b[0m\n\u001b[1;32m     38\u001b[0m \u001b[0;34m\u001b[0m\u001b[0m\n",
      "\u001b[0;31mAttributeError\u001b[0m: 'traceback' object has no attribute 'print_exception'"
     ]
    }
   ],
   "source": [
    "stocksDB.add_tickers()"
   ]
  },
  {
   "cell_type": "markdown",
   "id": "15316ff3",
   "metadata": {},
   "source": [
    "## What does a table look like?"
   ]
  },
  {
   "cell_type": "code",
   "execution_count": 31,
   "id": "d33ca447",
   "metadata": {
    "scrolled": true
   },
   "outputs": [
    {
     "name": "stdout",
     "output_type": "stream",
     "text": [
      "      ticker                  name_short               name_long exchange  \\\n",
      "0       AAPL                  Apple Inc.              Apple Inc.      NMS   \n",
      "1        HUT          Hut 8 Mining Corp.      Hut 8 Mining Corp.      NMS   \n",
      "2     HUT.TO           HUT 8 MINING CORP      Hut 8 Mining Corp.      TOR   \n",
      "3        SPY                SPDR S&P 500  SPDR S&P 500 ETF Trust      PCX   \n",
      "4   CADUSD=X                     CAD/USD                    None      CCY   \n",
      "5    BTC-USD                 Bitcoin USD                    None      CCC   \n",
      "6    ETH-USD                Ethereum USD                    None      CCC   \n",
      "7  ETHX-U.TO  CI GALAXY ETHEREUM ETF USD  CI Galaxy Ethereum ETF      TOR   \n",
      "8       MSFT       Microsoft Corporation   Microsoft Corporation      NMS   \n",
      "\n",
      "  currency            type              sector                 industry  \\\n",
      "0      USD          EQUITY          Technology     Consumer Electronics   \n",
      "1      USD          EQUITY  Financial Services          Capital Markets   \n",
      "2      CAD          EQUITY  Financial Services          Capital Markets   \n",
      "3      USD             ETF                None                     None   \n",
      "4      USD        CURRENCY                None                     None   \n",
      "5      USD  CRYPTOCURRENCY                None                     None   \n",
      "6      USD  CRYPTOCURRENCY                None                     None   \n",
      "7      USD             ETF                None                     None   \n",
      "8      USD          EQUITY          Technology  Software—Infrastructure   \n",
      "\n",
      "       market     hq_country  employees                    website  \n",
      "0   us_market  United States   154000.0      https://www.apple.com  \n",
      "1   us_market         Canada       30.0     https://hut8mining.com  \n",
      "2   ca_market         Canada       30.0     https://hut8mining.com  \n",
      "3   us_market           None        NaN                       None  \n",
      "4  ccy_market           None        NaN                       None  \n",
      "5  ccc_market           None        NaN                       None  \n",
      "6  ccc_market           None        NaN                       None  \n",
      "7   ca_market           None        NaN                       None  \n",
      "8   us_market  United States   181000.0  https://www.microsoft.com  \n",
      "['AAPL', 'BTC-USD', 'CADUSD=X', 'ETH-USD', 'ETHX-U.TO', 'HUT', 'HUT.TO', 'MSFT', 'SPY']\n",
      "                  date      open      high       low     close  \\\n",
      "0  1980-12-12 00:00:00  0.128348  0.128906  0.128348  0.128348   \n",
      "1  1980-12-15 00:00:00  0.122210  0.122210  0.121652  0.121652   \n",
      "2  1980-12-16 00:00:00  0.113281  0.113281  0.112723  0.112723   \n",
      "3  1980-12-17 00:00:00  0.115513  0.116071  0.115513  0.115513   \n",
      "4  1980-12-18 00:00:00  0.118862  0.119420  0.118862  0.118862   \n",
      "\n",
      "   adjusted_close     volume security_ticker  \n",
      "0        0.100453  469033600            AAPL  \n",
      "1        0.095213  175884800            AAPL  \n",
      "2        0.088224  105728000            AAPL  \n",
      "3        0.090408   86441600            AAPL  \n",
      "4        0.093029   73449600            AAPL  \n"
     ]
    }
   ],
   "source": [
    "print(stocksDB.get_table(\"security\"))\n",
    "print(stocksDB.get_present_tickers())\n",
    "print(stocksDB.get_daily_per_ticker(\"AAPL\").head())\n"
   ]
  },
  {
   "cell_type": "code",
   "execution_count": null,
   "id": "c7c199a6",
   "metadata": {},
   "outputs": [],
   "source": []
  }
 ],
 "metadata": {
  "kernelspec": {
   "display_name": "Python 3",
   "language": "python",
   "name": "python3"
  },
  "language_info": {
   "codemirror_mode": {
    "name": "ipython",
    "version": 3
   },
   "file_extension": ".py",
   "mimetype": "text/x-python",
   "name": "python",
   "nbconvert_exporter": "python",
   "pygments_lexer": "ipython3",
   "version": "3.6.9"
  }
 },
 "nbformat": 4,
 "nbformat_minor": 5
}
