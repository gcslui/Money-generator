{
 "cells": [
  {
   "cell_type": "code",
   "execution_count": null,
   "metadata": {},
   "outputs": [],
   "source": [
    "%load_ext autoreload\n",
    "%autoreload 2"
   ]
  },
  {
   "cell_type": "code",
   "execution_count": 1,
   "metadata": {},
   "outputs": [],
   "source": [
    "import sys\n",
    "sys.path.append('../')\n",
    "from src.db_class import FinanceDB"
   ]
  },
  {
   "cell_type": "markdown",
   "metadata": {},
   "source": [
    "## From a fresh start, initialize DB:"
   ]
  },
  {
   "cell_type": "code",
   "execution_count": 2,
   "metadata": {},
   "outputs": [],
   "source": [
    "stocksDB = FinanceDB(\"test_finance.db\") "
   ]
  },
  {
   "cell_type": "markdown",
   "metadata": {},
   "source": [
    "## Add some tickers to populate DB"
   ]
  },
  {
   "cell_type": "code",
   "execution_count": 3,
   "metadata": {},
   "outputs": [
    {
     "name": "stdout",
     "output_type": "stream",
     "text": [
      "(Pandas(Index='1987-09-21 00:00:00', Dividends=0.0, _2=2.0, security_ticker='MSFT'), Pandas(Index='1990-04-16 00:00:00', Dividends=0.0, _2=2.0, security_ticker='MSFT'), Pandas(Index='1991-06-27 00:00:00', Dividends=0.0, _2=1.5, security_ticker='MSFT'), Pandas(Index='1992-06-15 00:00:00', Dividends=0.0, _2=1.5, security_ticker='MSFT'), Pandas(Index='1994-05-23 00:00:00', Dividends=0.0, _2=2.0, security_ticker='MSFT'), Pandas(Index='1996-12-09 00:00:00', Dividends=0.0, _2=2.0, security_ticker='MSFT'), Pandas(Index='1998-02-23 00:00:00', Dividends=0.0, _2=2.0, security_ticker='MSFT'), Pandas(Index='1999-03-29 00:00:00', Dividends=0.0, _2=2.0, security_ticker='MSFT'), Pandas(Index='2003-02-18 00:00:00', Dividends=0.0, _2=2.0, security_ticker='MSFT'), Pandas(Index='2003-02-19 00:00:00', Dividends=0.08, _2=0.0, security_ticker='MSFT'), Pandas(Index='2003-10-15 00:00:00', Dividends=0.16, _2=0.0, security_ticker='MSFT'), Pandas(Index='2004-08-23 00:00:00', Dividends=0.08, _2=0.0, security_ticker='MSFT'), Pandas(Index='2004-11-15 00:00:00', Dividends=3.08, _2=0.0, security_ticker='MSFT'), Pandas(Index='2005-02-15 00:00:00', Dividends=0.08, _2=0.0, security_ticker='MSFT'), Pandas(Index='2005-05-16 00:00:00', Dividends=0.08, _2=0.0, security_ticker='MSFT'), Pandas(Index='2005-08-15 00:00:00', Dividends=0.08, _2=0.0, security_ticker='MSFT'), Pandas(Index='2005-11-15 00:00:00', Dividends=0.08, _2=0.0, security_ticker='MSFT'), Pandas(Index='2006-02-15 00:00:00', Dividends=0.09, _2=0.0, security_ticker='MSFT'), Pandas(Index='2006-05-15 00:00:00', Dividends=0.09, _2=0.0, security_ticker='MSFT'), Pandas(Index='2006-08-15 00:00:00', Dividends=0.09, _2=0.0, security_ticker='MSFT'), Pandas(Index='2006-11-14 00:00:00', Dividends=0.1, _2=0.0, security_ticker='MSFT'), Pandas(Index='2007-02-13 00:00:00', Dividends=0.1, _2=0.0, security_ticker='MSFT'), Pandas(Index='2007-05-15 00:00:00', Dividends=0.1, _2=0.0, security_ticker='MSFT'), Pandas(Index='2007-08-14 00:00:00', Dividends=0.1, _2=0.0, security_ticker='MSFT'), Pandas(Index='2007-11-13 00:00:00', Dividends=0.11, _2=0.0, security_ticker='MSFT'), Pandas(Index='2008-02-19 00:00:00', Dividends=0.11, _2=0.0, security_ticker='MSFT'), Pandas(Index='2008-05-13 00:00:00', Dividends=0.11, _2=0.0, security_ticker='MSFT'), Pandas(Index='2008-08-19 00:00:00', Dividends=0.11, _2=0.0, security_ticker='MSFT'), Pandas(Index='2008-11-18 00:00:00', Dividends=0.13, _2=0.0, security_ticker='MSFT'), Pandas(Index='2009-02-17 00:00:00', Dividends=0.13, _2=0.0, security_ticker='MSFT'), Pandas(Index='2009-05-19 00:00:00', Dividends=0.13, _2=0.0, security_ticker='MSFT'), Pandas(Index='2009-08-18 00:00:00', Dividends=0.13, _2=0.0, security_ticker='MSFT'), Pandas(Index='2009-11-17 00:00:00', Dividends=0.13, _2=0.0, security_ticker='MSFT'), Pandas(Index='2010-02-16 00:00:00', Dividends=0.13, _2=0.0, security_ticker='MSFT'), Pandas(Index='2010-05-18 00:00:00', Dividends=0.13, _2=0.0, security_ticker='MSFT'), Pandas(Index='2010-08-17 00:00:00', Dividends=0.13, _2=0.0, security_ticker='MSFT'), Pandas(Index='2010-11-16 00:00:00', Dividends=0.16, _2=0.0, security_ticker='MSFT'), Pandas(Index='2011-02-15 00:00:00', Dividends=0.16, _2=0.0, security_ticker='MSFT'), Pandas(Index='2011-05-17 00:00:00', Dividends=0.16, _2=0.0, security_ticker='MSFT'), Pandas(Index='2011-08-16 00:00:00', Dividends=0.16, _2=0.0, security_ticker='MSFT'), Pandas(Index='2011-11-15 00:00:00', Dividends=0.2, _2=0.0, security_ticker='MSFT'), Pandas(Index='2012-02-14 00:00:00', Dividends=0.2, _2=0.0, security_ticker='MSFT'), Pandas(Index='2012-05-15 00:00:00', Dividends=0.2, _2=0.0, security_ticker='MSFT'), Pandas(Index='2012-08-14 00:00:00', Dividends=0.2, _2=0.0, security_ticker='MSFT'), Pandas(Index='2012-11-13 00:00:00', Dividends=0.23, _2=0.0, security_ticker='MSFT'), Pandas(Index='2013-02-19 00:00:00', Dividends=0.23, _2=0.0, security_ticker='MSFT'), Pandas(Index='2013-05-14 00:00:00', Dividends=0.23, _2=0.0, security_ticker='MSFT'), Pandas(Index='2013-08-13 00:00:00', Dividends=0.23, _2=0.0, security_ticker='MSFT'), Pandas(Index='2013-11-19 00:00:00', Dividends=0.28, _2=0.0, security_ticker='MSFT'), Pandas(Index='2014-02-18 00:00:00', Dividends=0.28, _2=0.0, security_ticker='MSFT'), Pandas(Index='2014-05-13 00:00:00', Dividends=0.28, _2=0.0, security_ticker='MSFT'), Pandas(Index='2014-08-19 00:00:00', Dividends=0.28, _2=0.0, security_ticker='MSFT'), Pandas(Index='2014-11-18 00:00:00', Dividends=0.31, _2=0.0, security_ticker='MSFT'), Pandas(Index='2015-02-17 00:00:00', Dividends=0.31, _2=0.0, security_ticker='MSFT'), Pandas(Index='2015-05-19 00:00:00', Dividends=0.31, _2=0.0, security_ticker='MSFT'), Pandas(Index='2015-08-18 00:00:00', Dividends=0.31, _2=0.0, security_ticker='MSFT'), Pandas(Index='2015-11-17 00:00:00', Dividends=0.36, _2=0.0, security_ticker='MSFT'), Pandas(Index='2016-02-16 00:00:00', Dividends=0.36, _2=0.0, security_ticker='MSFT'), Pandas(Index='2016-05-17 00:00:00', Dividends=0.36, _2=0.0, security_ticker='MSFT'), Pandas(Index='2016-08-16 00:00:00', Dividends=0.36, _2=0.0, security_ticker='MSFT'), Pandas(Index='2016-11-15 00:00:00', Dividends=0.39, _2=0.0, security_ticker='MSFT'), Pandas(Index='2017-02-14 00:00:00', Dividends=0.39, _2=0.0, security_ticker='MSFT'), Pandas(Index='2017-05-16 00:00:00', Dividends=0.39, _2=0.0, security_ticker='MSFT'), Pandas(Index='2017-08-15 00:00:00', Dividends=0.39, _2=0.0, security_ticker='MSFT'), Pandas(Index='2017-11-15 00:00:00', Dividends=0.42, _2=0.0, security_ticker='MSFT'), Pandas(Index='2018-02-14 00:00:00', Dividends=0.42, _2=0.0, security_ticker='MSFT'), Pandas(Index='2018-05-16 00:00:00', Dividends=0.42, _2=0.0, security_ticker='MSFT'), Pandas(Index='2018-08-15 00:00:00', Dividends=0.42, _2=0.0, security_ticker='MSFT'), Pandas(Index='2018-11-14 00:00:00', Dividends=0.46, _2=0.0, security_ticker='MSFT'), Pandas(Index='2019-02-20 00:00:00', Dividends=0.46, _2=0.0, security_ticker='MSFT'), Pandas(Index='2019-05-15 00:00:00', Dividends=0.46, _2=0.0, security_ticker='MSFT'), Pandas(Index='2019-08-14 00:00:00', Dividends=0.46, _2=0.0, security_ticker='MSFT'), Pandas(Index='2019-11-20 00:00:00', Dividends=0.51, _2=0.0, security_ticker='MSFT'), Pandas(Index='2020-02-19 00:00:00', Dividends=0.51, _2=0.0, security_ticker='MSFT'), Pandas(Index='2020-05-20 00:00:00', Dividends=0.51, _2=0.0, security_ticker='MSFT'), Pandas(Index='2020-08-19 00:00:00', Dividends=0.51, _2=0.0, security_ticker='MSFT'), Pandas(Index='2020-11-18 00:00:00', Dividends=0.56, _2=0.0, security_ticker='MSFT'), Pandas(Index='2021-02-17 00:00:00', Dividends=0.56, _2=0.0, security_ticker='MSFT'), Pandas(Index='2021-05-19 00:00:00', Dividends=0.56, _2=0.0, security_ticker='MSFT'), Pandas(Index='2021-08-18 00:00:00', Dividends=0.56, _2=0.0, security_ticker='MSFT'), Pandas(Index='2021-11-17 00:00:00', Dividends=0.62, _2=0.0, security_ticker='MSFT'))\n",
      "MSFT data downloaded and populated in tables.\n",
      "(Pandas(Index='1987-05-11 00:00:00', Dividends=0.000536, _2=0.0, security_ticker='AAPL'), Pandas(Index='1987-06-16 00:00:00', Dividends=0.0, _2=2.0, security_ticker='AAPL'), Pandas(Index='1987-08-10 00:00:00', Dividends=0.000536, _2=0.0, security_ticker='AAPL'), Pandas(Index='1987-11-17 00:00:00', Dividends=0.000714, _2=0.0, security_ticker='AAPL'), Pandas(Index='1988-02-12 00:00:00', Dividends=0.000714, _2=0.0, security_ticker='AAPL'), Pandas(Index='1988-05-16 00:00:00', Dividends=0.000714, _2=0.0, security_ticker='AAPL'), Pandas(Index='1988-08-15 00:00:00', Dividends=0.000714, _2=0.0, security_ticker='AAPL'), Pandas(Index='1988-11-21 00:00:00', Dividends=0.000893, _2=0.0, security_ticker='AAPL'), Pandas(Index='1989-02-17 00:00:00', Dividends=0.000893, _2=0.0, security_ticker='AAPL'), Pandas(Index='1989-05-22 00:00:00', Dividends=0.000893, _2=0.0, security_ticker='AAPL'), Pandas(Index='1989-08-21 00:00:00', Dividends=0.000893, _2=0.0, security_ticker='AAPL'), Pandas(Index='1989-11-17 00:00:00', Dividends=0.000982, _2=0.0, security_ticker='AAPL'), Pandas(Index='1990-02-16 00:00:00', Dividends=0.000982, _2=0.0, security_ticker='AAPL'), Pandas(Index='1990-05-21 00:00:00', Dividends=0.000982, _2=0.0, security_ticker='AAPL'), Pandas(Index='1990-08-20 00:00:00', Dividends=0.000982, _2=0.0, security_ticker='AAPL'), Pandas(Index='1990-11-16 00:00:00', Dividends=0.001071, _2=0.0, security_ticker='AAPL'), Pandas(Index='1991-02-15 00:00:00', Dividends=0.001071, _2=0.0, security_ticker='AAPL'), Pandas(Index='1991-05-20 00:00:00', Dividends=0.001071, _2=0.0, security_ticker='AAPL'), Pandas(Index='1991-08-19 00:00:00', Dividends=0.001071, _2=0.0, security_ticker='AAPL'), Pandas(Index='1991-11-18 00:00:00', Dividends=0.001071, _2=0.0, security_ticker='AAPL'), Pandas(Index='1992-02-14 00:00:00', Dividends=0.001071, _2=0.0, security_ticker='AAPL'), Pandas(Index='1992-06-01 00:00:00', Dividends=0.001071, _2=0.0, security_ticker='AAPL'), Pandas(Index='1992-08-17 00:00:00', Dividends=0.001071, _2=0.0, security_ticker='AAPL'), Pandas(Index='1992-11-30 00:00:00', Dividends=0.001071, _2=0.0, security_ticker='AAPL'), Pandas(Index='1993-02-12 00:00:00', Dividends=0.001071, _2=0.0, security_ticker='AAPL'), Pandas(Index='1993-05-28 00:00:00', Dividends=0.001071, _2=0.0, security_ticker='AAPL'), Pandas(Index='1993-08-16 00:00:00', Dividends=0.001071, _2=0.0, security_ticker='AAPL'), Pandas(Index='1993-11-19 00:00:00', Dividends=0.001071, _2=0.0, security_ticker='AAPL'), Pandas(Index='1994-02-07 00:00:00', Dividends=0.001071, _2=0.0, security_ticker='AAPL'), Pandas(Index='1994-05-27 00:00:00', Dividends=0.001071, _2=0.0, security_ticker='AAPL'), Pandas(Index='1994-08-15 00:00:00', Dividends=0.001071, _2=0.0, security_ticker='AAPL'), Pandas(Index='1994-11-18 00:00:00', Dividends=0.001071, _2=0.0, security_ticker='AAPL'), Pandas(Index='1995-02-13 00:00:00', Dividends=0.001071, _2=0.0, security_ticker='AAPL'), Pandas(Index='1995-05-26 00:00:00', Dividends=0.001071, _2=0.0, security_ticker='AAPL'), Pandas(Index='1995-08-16 00:00:00', Dividends=0.001071, _2=0.0, security_ticker='AAPL'), Pandas(Index='1995-11-21 00:00:00', Dividends=0.001071, _2=0.0, security_ticker='AAPL'), Pandas(Index='2000-06-21 00:00:00', Dividends=0.0, _2=2.0, security_ticker='AAPL'), Pandas(Index='2005-02-28 00:00:00', Dividends=0.0, _2=2.0, security_ticker='AAPL'), Pandas(Index='2012-08-09 00:00:00', Dividends=0.094643, _2=0.0, security_ticker='AAPL'), Pandas(Index='2012-11-07 00:00:00', Dividends=0.094643, _2=0.0, security_ticker='AAPL'), Pandas(Index='2013-02-07 00:00:00', Dividends=0.094643, _2=0.0, security_ticker='AAPL'), Pandas(Index='2013-05-09 00:00:00', Dividends=0.108929, _2=0.0, security_ticker='AAPL'), Pandas(Index='2013-08-08 00:00:00', Dividends=0.108929, _2=0.0, security_ticker='AAPL'), Pandas(Index='2013-11-06 00:00:00', Dividends=0.108929, _2=0.0, security_ticker='AAPL'), Pandas(Index='2014-02-06 00:00:00', Dividends=0.108929, _2=0.0, security_ticker='AAPL'), Pandas(Index='2014-05-08 00:00:00', Dividends=0.1175, _2=0.0, security_ticker='AAPL'), Pandas(Index='2014-06-09 00:00:00', Dividends=0.0, _2=7.0, security_ticker='AAPL'), Pandas(Index='2014-08-07 00:00:00', Dividends=0.1175, _2=0.0, security_ticker='AAPL'), Pandas(Index='2014-11-06 00:00:00', Dividends=0.1175, _2=0.0, security_ticker='AAPL'), Pandas(Index='2015-02-05 00:00:00', Dividends=0.1175, _2=0.0, security_ticker='AAPL'), Pandas(Index='2015-05-07 00:00:00', Dividends=0.13, _2=0.0, security_ticker='AAPL'), Pandas(Index='2015-08-06 00:00:00', Dividends=0.13, _2=0.0, security_ticker='AAPL'), Pandas(Index='2015-11-05 00:00:00', Dividends=0.13, _2=0.0, security_ticker='AAPL'), Pandas(Index='2016-02-04 00:00:00', Dividends=0.13, _2=0.0, security_ticker='AAPL'), Pandas(Index='2016-05-05 00:00:00', Dividends=0.1425, _2=0.0, security_ticker='AAPL'), Pandas(Index='2016-08-04 00:00:00', Dividends=0.1425, _2=0.0, security_ticker='AAPL'), Pandas(Index='2016-11-03 00:00:00', Dividends=0.1425, _2=0.0, security_ticker='AAPL'), Pandas(Index='2017-02-09 00:00:00', Dividends=0.1425, _2=0.0, security_ticker='AAPL'), Pandas(Index='2017-05-11 00:00:00', Dividends=0.1575, _2=0.0, security_ticker='AAPL'), Pandas(Index='2017-08-10 00:00:00', Dividends=0.1575, _2=0.0, security_ticker='AAPL'), Pandas(Index='2017-11-10 00:00:00', Dividends=0.1575, _2=0.0, security_ticker='AAPL'), Pandas(Index='2018-02-09 00:00:00', Dividends=0.1575, _2=0.0, security_ticker='AAPL'), Pandas(Index='2018-05-11 00:00:00', Dividends=0.1825, _2=0.0, security_ticker='AAPL'), Pandas(Index='2018-08-10 00:00:00', Dividends=0.1825, _2=0.0, security_ticker='AAPL'), Pandas(Index='2018-11-08 00:00:00', Dividends=0.1825, _2=0.0, security_ticker='AAPL'), Pandas(Index='2019-02-08 00:00:00', Dividends=0.1825, _2=0.0, security_ticker='AAPL'), Pandas(Index='2019-05-10 00:00:00', Dividends=0.1925, _2=0.0, security_ticker='AAPL'), Pandas(Index='2019-08-09 00:00:00', Dividends=0.1925, _2=0.0, security_ticker='AAPL'), Pandas(Index='2019-11-07 00:00:00', Dividends=0.1925, _2=0.0, security_ticker='AAPL'), Pandas(Index='2020-02-07 00:00:00', Dividends=0.1925, _2=0.0, security_ticker='AAPL'), Pandas(Index='2020-05-08 00:00:00', Dividends=0.205, _2=0.0, security_ticker='AAPL'), Pandas(Index='2020-08-07 00:00:00', Dividends=0.205, _2=0.0, security_ticker='AAPL'), Pandas(Index='2020-08-31 00:00:00', Dividends=0.0, _2=4.0, security_ticker='AAPL'), Pandas(Index='2020-11-06 00:00:00', Dividends=0.205, _2=0.0, security_ticker='AAPL'), Pandas(Index='2021-02-05 00:00:00', Dividends=0.205, _2=0.0, security_ticker='AAPL'), Pandas(Index='2021-05-07 00:00:00', Dividends=0.22, _2=0.0, security_ticker='AAPL'), Pandas(Index='2021-08-06 00:00:00', Dividends=0.22, _2=0.0, security_ticker='AAPL'), Pandas(Index='2021-11-05 00:00:00', Dividends=0.22, _2=0.0, security_ticker='AAPL'))\n",
      "AAPL data downloaded and populated in tables.\n"
     ]
    },
    {
     "name": "stdout",
     "output_type": "stream",
     "text": [
      "()\n",
      "HUT data downloaded and populated in tables.\n",
      "()\n",
      "HUT.TO data downloaded and populated in tables.\n",
      "(Pandas(Index='1993-03-19 00:00:00', Dividends=0.213, _2=0.0, security_ticker='SPY'), Pandas(Index='1993-06-18 00:00:00', Dividends=0.318, _2=0.0, security_ticker='SPY'), Pandas(Index='1993-09-17 00:00:00', Dividends=0.286, _2=0.0, security_ticker='SPY'), Pandas(Index='1993-12-17 00:00:00', Dividends=0.317, _2=0.0, security_ticker='SPY'), Pandas(Index='1994-03-18 00:00:00', Dividends=0.271, _2=0.0, security_ticker='SPY'), Pandas(Index='1994-06-17 00:00:00', Dividends=0.305, _2=0.0, security_ticker='SPY'), Pandas(Index='1994-09-16 00:00:00', Dividends=0.288, _2=0.0, security_ticker='SPY'), Pandas(Index='1994-12-16 00:00:00', Dividends=0.363, _2=0.0, security_ticker='SPY'), Pandas(Index='1995-03-17 00:00:00', Dividends=0.268, _2=0.0, security_ticker='SPY'), Pandas(Index='1995-06-16 00:00:00', Dividends=0.316, _2=0.0, security_ticker='SPY'), Pandas(Index='1995-09-15 00:00:00', Dividends=0.312, _2=0.0, security_ticker='SPY'), Pandas(Index='1995-12-15 00:00:00', Dividends=0.382, _2=0.0, security_ticker='SPY'), Pandas(Index='1996-03-15 00:00:00', Dividends=0.285, _2=0.0, security_ticker='SPY'), Pandas(Index='1996-06-21 00:00:00', Dividends=0.351, _2=0.0, security_ticker='SPY'), Pandas(Index='1996-09-20 00:00:00', Dividends=0.352, _2=0.0, security_ticker='SPY'), Pandas(Index='1996-12-20 00:00:00', Dividends=0.367, _2=0.0, security_ticker='SPY'), Pandas(Index='1997-03-21 00:00:00', Dividends=0.299, _2=0.0, security_ticker='SPY'), Pandas(Index='1997-06-20 00:00:00', Dividends=0.35, _2=0.0, security_ticker='SPY'), Pandas(Index='1997-09-19 00:00:00', Dividends=0.348, _2=0.0, security_ticker='SPY'), Pandas(Index='1997-12-19 00:00:00', Dividends=0.38, _2=0.0, security_ticker='SPY'), Pandas(Index='1998-03-20 00:00:00', Dividends=0.313, _2=0.0, security_ticker='SPY'), Pandas(Index='1998-06-19 00:00:00', Dividends=0.352, _2=0.0, security_ticker='SPY'), Pandas(Index='1998-09-18 00:00:00', Dividends=0.359, _2=0.0, security_ticker='SPY'), Pandas(Index='1998-12-18 00:00:00', Dividends=0.392, _2=0.0, security_ticker='SPY'), Pandas(Index='1999-03-19 00:00:00', Dividends=0.32, _2=0.0, security_ticker='SPY'), Pandas(Index='1999-06-18 00:00:00', Dividends=0.405, _2=0.0, security_ticker='SPY'), Pandas(Index='1999-09-17 00:00:00', Dividends=0.372, _2=0.0, security_ticker='SPY'), Pandas(Index='1999-12-17 00:00:00', Dividends=0.348, _2=0.0, security_ticker='SPY'), Pandas(Index='2000-03-17 00:00:00', Dividends=0.371, _2=0.0, security_ticker='SPY'), Pandas(Index='2000-06-16 00:00:00', Dividends=0.348, _2=0.0, security_ticker='SPY'), Pandas(Index='2000-09-15 00:00:00', Dividends=0.375, _2=0.0, security_ticker='SPY'), Pandas(Index='2000-12-15 00:00:00', Dividends=0.411, _2=0.0, security_ticker='SPY'), Pandas(Index='2001-03-16 00:00:00', Dividends=0.316, _2=0.0, security_ticker='SPY'), Pandas(Index='2001-06-15 00:00:00', Dividends=0.346, _2=0.0, security_ticker='SPY'), Pandas(Index='2001-09-21 00:00:00', Dividends=0.369, _2=0.0, security_ticker='SPY'), Pandas(Index='2001-12-21 00:00:00', Dividends=0.393, _2=0.0, security_ticker='SPY'), Pandas(Index='2002-03-15 00:00:00', Dividends=0.331, _2=0.0, security_ticker='SPY'), Pandas(Index='2002-06-21 00:00:00', Dividends=0.353, _2=0.0, security_ticker='SPY'), Pandas(Index='2002-09-20 00:00:00', Dividends=0.378, _2=0.0, security_ticker='SPY'), Pandas(Index='2002-12-20 00:00:00', Dividends=0.436, _2=0.0, security_ticker='SPY'), Pandas(Index='2003-03-21 00:00:00', Dividends=0.354, _2=0.0, security_ticker='SPY'), Pandas(Index='2003-06-20 00:00:00', Dividends=0.36, _2=0.0, security_ticker='SPY'), Pandas(Index='2003-09-19 00:00:00', Dividends=0.4, _2=0.0, security_ticker='SPY'), Pandas(Index='2003-12-19 00:00:00', Dividends=0.516, _2=0.0, security_ticker='SPY'), Pandas(Index='2004-03-19 00:00:00', Dividends=0.395, _2=0.0, security_ticker='SPY'), Pandas(Index='2004-06-18 00:00:00', Dividends=0.414, _2=0.0, security_ticker='SPY'), Pandas(Index='2004-09-17 00:00:00', Dividends=0.469, _2=0.0, security_ticker='SPY'), Pandas(Index='2004-11-15 00:00:00', Dividends=0.351, _2=0.0, security_ticker='SPY'), Pandas(Index='2004-12-17 00:00:00', Dividends=0.568, _2=0.0, security_ticker='SPY'), Pandas(Index='2005-03-18 00:00:00', Dividends=0.467, _2=0.0, security_ticker='SPY'), Pandas(Index='2005-06-17 00:00:00', Dividends=0.488, _2=0.0, security_ticker='SPY'), Pandas(Index='2005-09-16 00:00:00', Dividends=0.522, _2=0.0, security_ticker='SPY'), Pandas(Index='2005-12-16 00:00:00', Dividends=0.672, _2=0.0, security_ticker='SPY'), Pandas(Index='2006-03-17 00:00:00', Dividends=0.519, _2=0.0, security_ticker='SPY'), Pandas(Index='2006-06-16 00:00:00', Dividends=0.555, _2=0.0, security_ticker='SPY'), Pandas(Index='2006-09-15 00:00:00', Dividends=0.579, _2=0.0, security_ticker='SPY'), Pandas(Index='2006-12-15 00:00:00', Dividends=0.793, _2=0.0, security_ticker='SPY'), Pandas(Index='2007-03-16 00:00:00', Dividends=0.551, _2=0.0, security_ticker='SPY'), Pandas(Index='2007-06-15 00:00:00', Dividends=0.656, _2=0.0, security_ticker='SPY'), Pandas(Index='2007-09-21 00:00:00', Dividends=0.719, _2=0.0, security_ticker='SPY'), Pandas(Index='2007-12-21 00:00:00', Dividends=0.775, _2=0.0, security_ticker='SPY'), Pandas(Index='2008-03-20 00:00:00', Dividends=0.642, _2=0.0, security_ticker='SPY'), Pandas(Index='2008-06-20 00:00:00', Dividends=0.669, _2=0.0, security_ticker='SPY'), Pandas(Index='2008-09-19 00:00:00', Dividends=0.691, _2=0.0, security_ticker='SPY'), Pandas(Index='2008-12-19 00:00:00', Dividends=0.719, _2=0.0, security_ticker='SPY'), Pandas(Index='2009-03-20 00:00:00', Dividends=0.561, _2=0.0, security_ticker='SPY'), Pandas(Index='2009-06-19 00:00:00', Dividends=0.518, _2=0.0, security_ticker='SPY'), Pandas(Index='2009-09-18 00:00:00', Dividends=0.508, _2=0.0, security_ticker='SPY'), Pandas(Index='2009-12-18 00:00:00', Dividends=0.59, _2=0.0, security_ticker='SPY'), Pandas(Index='2010-03-19 00:00:00', Dividends=0.48, _2=0.0, security_ticker='SPY'), Pandas(Index='2010-06-18 00:00:00', Dividends=0.531, _2=0.0, security_ticker='SPY'), Pandas(Index='2010-09-17 00:00:00', Dividends=0.602, _2=0.0, security_ticker='SPY'), Pandas(Index='2010-12-17 00:00:00', Dividends=0.653, _2=0.0, security_ticker='SPY'), Pandas(Index='2011-03-18 00:00:00', Dividends=0.553, _2=0.0, security_ticker='SPY'), Pandas(Index='2011-06-17 00:00:00', Dividends=0.628, _2=0.0, security_ticker='SPY'), Pandas(Index='2011-09-16 00:00:00', Dividends=0.625, _2=0.0, security_ticker='SPY'), Pandas(Index='2011-12-16 00:00:00', Dividends=0.77, _2=0.0, security_ticker='SPY'), Pandas(Index='2012-03-16 00:00:00', Dividends=0.614, _2=0.0, security_ticker='SPY'), Pandas(Index='2012-06-15 00:00:00', Dividends=0.688, _2=0.0, security_ticker='SPY'), Pandas(Index='2012-09-21 00:00:00', Dividends=0.779, _2=0.0, security_ticker='SPY'), Pandas(Index='2012-12-21 00:00:00', Dividends=1.022, _2=0.0, security_ticker='SPY'), Pandas(Index='2013-03-15 00:00:00', Dividends=0.694, _2=0.0, security_ticker='SPY'), Pandas(Index='2013-06-21 00:00:00', Dividends=0.839, _2=0.0, security_ticker='SPY'), Pandas(Index='2013-09-20 00:00:00', Dividends=0.838, _2=0.0, security_ticker='SPY'), Pandas(Index='2013-12-20 00:00:00', Dividends=0.98, _2=0.0, security_ticker='SPY'), Pandas(Index='2014-03-21 00:00:00', Dividends=0.825, _2=0.0, security_ticker='SPY'), Pandas(Index='2014-06-20 00:00:00', Dividends=0.937, _2=0.0, security_ticker='SPY'), Pandas(Index='2014-09-19 00:00:00', Dividends=0.939, _2=0.0, security_ticker='SPY'), Pandas(Index='2014-12-19 00:00:00', Dividends=1.135, _2=0.0, security_ticker='SPY'), Pandas(Index='2015-03-20 00:00:00', Dividends=0.931, _2=0.0, security_ticker='SPY'), Pandas(Index='2015-06-19 00:00:00', Dividends=1.03, _2=0.0, security_ticker='SPY'), Pandas(Index='2015-09-18 00:00:00', Dividends=1.033, _2=0.0, security_ticker='SPY'), Pandas(Index='2015-12-18 00:00:00', Dividends=1.212, _2=0.0, security_ticker='SPY'), Pandas(Index='2016-03-18 00:00:00', Dividends=1.05, _2=0.0, security_ticker='SPY'), Pandas(Index='2016-06-17 00:00:00', Dividends=1.078, _2=0.0, security_ticker='SPY'), Pandas(Index='2016-09-16 00:00:00', Dividends=1.082, _2=0.0, security_ticker='SPY'), Pandas(Index='2016-12-16 00:00:00', Dividends=1.329, _2=0.0, security_ticker='SPY'), Pandas(Index='2017-03-17 00:00:00', Dividends=1.033, _2=0.0, security_ticker='SPY'), Pandas(Index='2017-06-16 00:00:00', Dividends=1.183, _2=0.0, security_ticker='SPY'), Pandas(Index='2017-09-15 00:00:00', Dividends=1.235, _2=0.0, security_ticker='SPY'), Pandas(Index='2017-12-15 00:00:00', Dividends=1.351, _2=0.0, security_ticker='SPY'), Pandas(Index='2018-03-16 00:00:00', Dividends=1.097, _2=0.0, security_ticker='SPY'), Pandas(Index='2018-06-15 00:00:00', Dividends=1.246, _2=0.0, security_ticker='SPY'), Pandas(Index='2018-09-21 00:00:00', Dividends=1.323, _2=0.0, security_ticker='SPY'), Pandas(Index='2018-12-21 00:00:00', Dividends=1.435, _2=0.0, security_ticker='SPY'), Pandas(Index='2019-03-15 00:00:00', Dividends=1.233, _2=0.0, security_ticker='SPY'), Pandas(Index='2019-06-21 00:00:00', Dividends=1.432, _2=0.0, security_ticker='SPY'), Pandas(Index='2019-09-20 00:00:00', Dividends=1.384, _2=0.0, security_ticker='SPY'), Pandas(Index='2019-12-20 00:00:00', Dividends=1.57, _2=0.0, security_ticker='SPY'), Pandas(Index='2020-03-20 00:00:00', Dividends=1.406, _2=0.0, security_ticker='SPY'), Pandas(Index='2020-06-19 00:00:00', Dividends=1.366, _2=0.0, security_ticker='SPY'), Pandas(Index='2020-09-18 00:00:00', Dividends=1.339, _2=0.0, security_ticker='SPY'), Pandas(Index='2020-12-18 00:00:00', Dividends=1.58, _2=0.0, security_ticker='SPY'), Pandas(Index='2021-03-19 00:00:00', Dividends=1.278, _2=0.0, security_ticker='SPY'), Pandas(Index='2021-06-18 00:00:00', Dividends=1.376, _2=0.0, security_ticker='SPY'), Pandas(Index='2021-09-17 00:00:00', Dividends=1.428, _2=0.0, security_ticker='SPY'), Pandas(Index='2021-12-17 00:00:00', Dividends=1.636, _2=0.0, security_ticker='SPY'))\n",
      "SPY data downloaded and populated in tables.\n"
     ]
    },
    {
     "name": "stdout",
     "output_type": "stream",
     "text": [
      "()\n",
      "CADUSD=X data downloaded and populated in tables.\n",
      "()\n",
      "BTC-USD data downloaded and populated in tables.\n",
      "()\n",
      "ETH-USD data downloaded and populated in tables.\n",
      "()\n",
      "ETHX-U.TO data downloaded and populated in tables.\n",
      "finished.\n"
     ]
    }
   ],
   "source": [
    "stocksDB.add_default_tickers()"
   ]
  },
  {
   "cell_type": "markdown",
   "metadata": {},
   "source": [
    "## What does a table look like?"
   ]
  },
  {
   "cell_type": "code",
   "execution_count": null,
   "metadata": {
    "scrolled": true
   },
   "outputs": [],
   "source": [
    "print(stocksDB.get_table(\"security\"))\n",
    "print(stocksDB.get_table(\"exchange\"))\n",
    "print(stocksDB.get_present_tickers())\n",
    "print(stocksDB.get_daily_per_ticker(\"AAPL\").head())\n",
    "print(stocksDB.get_minutely_per_ticker(\"AAPL\").head())"
   ]
  },
  {
   "cell_type": "code",
   "execution_count": null,
   "metadata": {},
   "outputs": [],
   "source": [
    "stocksDB.get_daily_per_ticker('AAPL')"
   ]
  },
  {
   "cell_type": "code",
   "execution_count": null,
   "metadata": {},
   "outputs": [],
   "source": []
  }
 ],
 "metadata": {
  "kernelspec": {
   "display_name": "Python 3",
   "language": "python",
   "name": "python3"
  },
  "language_info": {
   "codemirror_mode": {
    "name": "ipython",
    "version": 3
   },
   "file_extension": ".py",
   "mimetype": "text/x-python",
   "name": "python",
   "nbconvert_exporter": "python",
   "pygments_lexer": "ipython3",
   "version": "3.6.9"
  }
 },
 "nbformat": 4,
 "nbformat_minor": 5
}
