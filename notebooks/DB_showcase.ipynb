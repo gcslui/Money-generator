{
 "cells": [
  {
   "cell_type": "code",
   "execution_count": 8,
   "id": "a1f6f60f",
   "metadata": {},
   "outputs": [],
   "source": [
    "%load_ext autoreload\n",
    "%autoreload 2"
   ]
  },
  {
   "cell_type": "code",
   "execution_count": 37,
   "id": "ab6c4844",
   "metadata": {},
   "outputs": [],
   "source": [
    "import sys\n",
    "sys.path.append('../')\n",
    "from src.db_class import FinanceDB"
   ]
  },
  {
   "cell_type": "markdown",
   "id": "9cd707ef",
   "metadata": {},
   "source": [
    "## From a fresh start, initialize DB:"
   ]
  },
  {
   "cell_type": "code",
   "execution_count": 45,
   "id": "af61d4c3",
   "metadata": {},
   "outputs": [],
   "source": [
    "stocksDB = FinanceDB(\"test_finance.db\") "
   ]
  },
  {
   "cell_type": "markdown",
   "id": "3388e0d5",
   "metadata": {},
   "source": [
    "## Add some tickers to populate DB"
   ]
  },
  {
   "cell_type": "code",
   "execution_count": 46,
   "id": "86da5007",
   "metadata": {},
   "outputs": [
    {
     "name": "stdout",
     "output_type": "stream",
     "text": [
      "MSFT data downloaded and populated in tables.\n",
      "AAPL data downloaded and populated in tables.\n",
      "HUT data downloaded and populated in tables.\n",
      "HUT.TO data downloaded and populated in tables.\n",
      "SPY data downloaded and populated in tables.\n",
      "CADUSD=X data downloaded and populated in tables.\n",
      "BTC-USD data downloaded and populated in tables.\n",
      "ETH-USD data downloaded and populated in tables.\n",
      "ETHX-U.TO data downloaded and populated in tables.\n",
      "finished.\n"
     ]
    }
   ],
   "source": [
    "stocksDB.add_tickers()"
   ]
  },
  {
   "cell_type": "markdown",
   "id": "15316ff3",
   "metadata": {},
   "source": [
    "## What does a table look like?"
   ]
  },
  {
   "cell_type": "code",
   "execution_count": 48,
   "id": "d33ca447",
   "metadata": {
    "scrolled": true
   },
   "outputs": [
    {
     "name": "stdout",
     "output_type": "stream",
     "text": [
      "      ticker                  name_short               name_long exchange  \\\n",
      "0       MSFT       Microsoft Corporation   Microsoft Corporation      NMS   \n",
      "1       AAPL                  Apple Inc.              Apple Inc.      NMS   \n",
      "2        HUT          Hut 8 Mining Corp.      Hut 8 Mining Corp.      NMS   \n",
      "3     HUT.TO           HUT 8 MINING CORP      Hut 8 Mining Corp.      TOR   \n",
      "4        SPY                SPDR S&P 500  SPDR S&P 500 ETF Trust      PCX   \n",
      "5   CADUSD=X                     CAD/USD                    None      CCY   \n",
      "6    BTC-USD                 Bitcoin USD                    None      CCC   \n",
      "7    ETH-USD                Ethereum USD                    None      CCC   \n",
      "8  ETHX-U.TO  CI GALAXY ETHEREUM ETF USD  CI Galaxy Ethereum ETF      TOR   \n",
      "\n",
      "  currency            type              sector                 industry  \\\n",
      "0      USD          EQUITY          Technology  Software—Infrastructure   \n",
      "1      USD          EQUITY          Technology     Consumer Electronics   \n",
      "2      USD          EQUITY  Financial Services          Capital Markets   \n",
      "3      CAD          EQUITY  Financial Services          Capital Markets   \n",
      "4      USD             ETF                None                     None   \n",
      "5      USD        CURRENCY                None                     None   \n",
      "6      USD  CRYPTOCURRENCY                None                     None   \n",
      "7      USD  CRYPTOCURRENCY                None                     None   \n",
      "8      USD             ETF                None                     None   \n",
      "\n",
      "       market     hq_country  employees                    website  \n",
      "0   us_market  United States   181000.0  https://www.microsoft.com  \n",
      "1   us_market  United States   154000.0      https://www.apple.com  \n",
      "2   us_market         Canada       30.0     https://hut8mining.com  \n",
      "3   ca_market         Canada       30.0     https://hut8mining.com  \n",
      "4   us_market           None        NaN                       None  \n",
      "5  ccy_market           None        NaN                       None  \n",
      "6  ccc_market           None        NaN                       None  \n",
      "7  ccc_market           None        NaN                       None  \n",
      "8   ca_market           None        NaN                       None  \n",
      "  exchange_name exchange_timezone exchange_timezone_short\n",
      "0           NMS  America/New_York                     EST\n",
      "1           TOR   America/Toronto                     EST\n",
      "2           PCX  America/New_York                     EST\n",
      "3           CCY     Europe/London                     GMT\n",
      "4           CCC               UTC                     UTC\n",
      "['AAPL', 'BTC-USD', 'CADUSD=X', 'ETH-USD', 'ETHX-U.TO', 'HUT', 'HUT.TO', 'MSFT', 'SPY']\n",
      "                  date      open      high       low     close  \\\n",
      "0  1980-12-12 00:00:00  0.128348  0.128906  0.128348  0.128348   \n",
      "1  1980-12-15 00:00:00  0.122210  0.122210  0.121652  0.121652   \n",
      "2  1980-12-16 00:00:00  0.113281  0.113281  0.112723  0.112723   \n",
      "3  1980-12-17 00:00:00  0.115513  0.116071  0.115513  0.115513   \n",
      "4  1980-12-18 00:00:00  0.118862  0.119420  0.118862  0.118862   \n",
      "\n",
      "   adjusted_close     volume security_ticker  \n",
      "0        0.100453  469033600            AAPL  \n",
      "1        0.095213  175884800            AAPL  \n",
      "2        0.088224  105728000            AAPL  \n",
      "3        0.090408   86441600            AAPL  \n",
      "4        0.093029   73449600            AAPL  \n",
      "                  date        open        high         low       close  \\\n",
      "0  2021-11-22 09:30:00  161.679993  162.500000  161.630005  162.449997   \n",
      "1  2021-11-22 09:31:00  162.429993  162.710007  162.070007  162.550003   \n",
      "2  2021-11-22 09:32:00  162.570007  163.029999  162.500000  162.939804   \n",
      "3  2021-11-22 09:33:00  163.000000  163.020004  162.809998  162.820007   \n",
      "4  2021-11-22 09:34:00  162.500000  162.774902  162.277496  162.760101   \n",
      "\n",
      "   adjusted_close   volume security_ticker  \n",
      "0      162.449997  7202415            AAPL  \n",
      "1      162.550003   817807            AAPL  \n",
      "2      162.939804   789964            AAPL  \n",
      "3      162.820007   636201            AAPL  \n",
      "4      162.760101   770091            AAPL  \n"
     ]
    }
   ],
   "source": [
    "print(stocksDB.get_table(\"security\"))\n",
    "print(stocksDB.get_table(\"exchange\"))\n",
    "print(stocksDB.get_present_tickers())\n",
    "print(stocksDB.get_daily_per_ticker(\"AAPL\").head())\n",
    "print(stocksDB.get_minutely_per_ticker(\"AAPL\").head())"
   ]
  },
  {
   "cell_type": "code",
   "execution_count": null,
   "id": "c7c199a6",
   "metadata": {},
   "outputs": [],
   "source": []
  }
 ],
 "metadata": {
  "kernelspec": {
   "display_name": "Python 3",
   "language": "python",
   "name": "python3"
  },
  "language_info": {
   "codemirror_mode": {
    "name": "ipython",
    "version": 3
   },
   "file_extension": ".py",
   "mimetype": "text/x-python",
   "name": "python",
   "nbconvert_exporter": "python",
   "pygments_lexer": "ipython3",
   "version": "3.6.9"
  }
 },
 "nbformat": 4,
 "nbformat_minor": 5
}
