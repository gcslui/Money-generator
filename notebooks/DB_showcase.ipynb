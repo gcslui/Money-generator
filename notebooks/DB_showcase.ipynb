{
 "cells": [
  {
   "cell_type": "code",
   "execution_count": 57,
   "id": "1ec62452",
   "metadata": {},
   "outputs": [
    {
     "name": "stdout",
     "output_type": "stream",
     "text": [
      "The autoreload extension is already loaded. To reload it, use:\n",
      "  %reload_ext autoreload\n"
     ]
    }
   ],
   "source": [
    "%load_ext autoreload\n",
    "%autoreload 2"
   ]
  },
  {
   "cell_type": "code",
   "execution_count": 74,
   "id": "bb1735e6",
   "metadata": {},
   "outputs": [],
   "source": [
    "import sys\n",
    "import yfinance as yf\n",
    "sys.path.append('../')\n",
    "from src.db_class import FinanceDB"
   ]
  },
  {
   "cell_type": "markdown",
   "id": "24e32466",
   "metadata": {},
   "source": [
    "## From a fresh start, can initialize a new DB we call test:"
   ]
  },
  {
   "cell_type": "code",
   "execution_count": 75,
   "id": "92231bf8",
   "metadata": {},
   "outputs": [],
   "source": [
    "stocksDB = FinanceDB(\"test.db\") "
   ]
  },
  {
   "cell_type": "markdown",
   "id": "06145f9f",
   "metadata": {},
   "source": [
    "## Add some tickers to populate DB"
   ]
  },
  {
   "cell_type": "code",
   "execution_count": null,
   "id": "d446a60d",
   "metadata": {
    "scrolled": true
   },
   "outputs": [],
   "source": [
    "stocksDB.add_default_tickers()"
   ]
  },
  {
   "cell_type": "markdown",
   "id": "d9a42599",
   "metadata": {},
   "source": [
    "## What does a table look like?"
   ]
  },
  {
   "cell_type": "code",
   "execution_count": null,
   "id": "f3453fc9",
   "metadata": {
    "scrolled": true
   },
   "outputs": [],
   "source": [
    "print(stocksDB.get_table(\"security\"))\n",
    "print(stocksDB.get_table(\"exchange\"))\n",
    "print(stocksDB.get_present_tickers())\n",
    "#print(stocksDB.get_daily_per_ticker(\"AAPL\").head())\n",
    "#print(stocksDB.get_minutely_per_ticker(\"AAPL\").head())"
   ]
  },
  {
   "cell_type": "markdown",
   "id": "149a2691",
   "metadata": {},
   "source": [
    "## Can look at a frozen database by creating a FinanceDB instance with the frozen DB name"
   ]
  },
  {
   "cell_type": "code",
   "execution_count": 77,
   "id": "3aaa8346",
   "metadata": {},
   "outputs": [],
   "source": [
    "v1_frozen_DB = FinanceDB(\"default_finance_v1.db\") "
   ]
  },
  {
   "cell_type": "code",
   "execution_count": 78,
   "id": "b1056988",
   "metadata": {},
   "outputs": [
    {
     "name": "stdout",
     "output_type": "stream",
     "text": [
      "       ticker                       name_short  \\\n",
      "0        AMZN                 Amazon.com, Inc.   \n",
      "1        MSFT            Microsoft Corporation   \n",
      "2        AAPL                       Apple Inc.   \n",
      "3         HUT               Hut 8 Mining Corp.   \n",
      "4      HUT.TO                HUT 8 MINING CORP   \n",
      "5         SPY                     SPDR S&P 500   \n",
      "6    CADUSD=X                          CAD/USD   \n",
      "7     BTC-USD                      Bitcoin USD   \n",
      "8     ETH-USD                     Ethereum USD   \n",
      "9   ETHX-U.TO       CI GALAXY ETHEREUM ETF USD   \n",
      "10    SHOP.TO                      SHOPIFY INC   \n",
      "11         RY             Royal Bank Of Canada   \n",
      "12      TD.TO            TORONTO-DOMINION BANK   \n",
      "13        ENB                     Enbridge Inc   \n",
      "14     CNR.TO    CANADIAN NATIONAL RAILWAY CO.   \n",
      "15     BNS.TO              BANK OF NOVA SCOTIA   \n",
      "16     BMO.TO                 BANK OF MONTREAL   \n",
      "17      CP.TO  CANADIAN PACIFIC RAILWAY LIMITE   \n",
      "18     TRI.TO      THOMSON REUTERS CORPORATION   \n",
      "19      CM.TO  CANADIAN IMPERIAL BANK OF COMME   \n",
      "20       GOOG                    Alphabet Inc.   \n",
      "21       NVDA               NVIDIA Corporation   \n",
      "22       TSLA                      Tesla, Inc.   \n",
      "23         FB             Meta Platforms, Inc.   \n",
      "24      BRK-B      Berkshire Hathaway Inc. New   \n",
      "25        JPM            JP Morgan Chase & Co.   \n",
      "26         PG   Procter & Gamble Company (The)   \n",
      "27       NFLX                    Netflix, Inc.   \n",
      "28        DIS        Walt Disney Company (The)   \n",
      "29        PFE                     Pfizer, Inc.   \n",
      "30       COST     Costco Wholesale Corporation   \n",
      "31  ETHX-B.TO           CI GALAXY ETHEREUM ETF   \n",
      "32     XEC.TO  iSHARES CORE MSCI EMERGING MKTS   \n",
      "33     XEI.TO  iSHARES SP TSX COMP HIGH DIV IN   \n",
      "34     XEF.TO  iSHARES CORE MSCI EAFE IMI INDE   \n",
      "35     XUU.TO  ISHARES CORE SP US TOTAL MARKET   \n",
      "36     XIC.TO  iSHARES CORE SP TSX CAPPED COMP   \n",
      "37        MFC   Manulife Financial Corporation   \n",
      "38          V                        Visa Inc.   \n",
      "39       ADBE                       Adobe Inc.   \n",
      "\n",
      "                                            name_long exchange currency  \\\n",
      "0                                    Amazon.com, Inc.      NMS      USD   \n",
      "1                               Microsoft Corporation      NMS      USD   \n",
      "2                                          Apple Inc.      NMS      USD   \n",
      "3                                  Hut 8 Mining Corp.      NMS      USD   \n",
      "4                                  Hut 8 Mining Corp.      TOR      CAD   \n",
      "5                              SPDR S&P 500 ETF Trust      PCX      USD   \n",
      "6                                                NULL      CCY      USD   \n",
      "7                                                NULL      CCC      USD   \n",
      "8                                                NULL      CCC      USD   \n",
      "9                              CI Galaxy Ethereum ETF      TOR      USD   \n",
      "10                                       Shopify Inc.      TOR      CAD   \n",
      "11                               Royal Bank of Canada      NYQ      USD   \n",
      "12                          The Toronto-Dominion Bank      TOR      CAD   \n",
      "13                                      Enbridge Inc.      NYQ      USD   \n",
      "14                  Canadian National Railway Company      TOR      CAD   \n",
      "15                            The Bank of Nova Scotia      TOR      CAD   \n",
      "16                                   Bank of Montreal      TOR      CAD   \n",
      "17                   Canadian Pacific Railway Limited      TOR      CAD   \n",
      "18                        Thomson Reuters Corporation      TOR      CAD   \n",
      "19                 Canadian Imperial Bank of Commerce      TOR      CAD   \n",
      "20                                      Alphabet Inc.      NMS      USD   \n",
      "21                                 NVIDIA Corporation      NMS      USD   \n",
      "22                                        Tesla, Inc.      NMS      USD   \n",
      "23                               Meta Platforms, Inc.      NMS      USD   \n",
      "24                            Berkshire Hathaway Inc.      NYQ      USD   \n",
      "25                               JPMorgan Chase & Co.      NYQ      USD   \n",
      "26                       The Procter & Gamble Company      NYQ      USD   \n",
      "27                                      Netflix, Inc.      NMS      USD   \n",
      "28                            The Walt Disney Company      NYQ      USD   \n",
      "29                                        Pfizer Inc.      NYQ      USD   \n",
      "30                       Costco Wholesale Corporation      NMS      USD   \n",
      "31                             CI Galaxy Ethereum ETF      TOR      CAD   \n",
      "32   iShares Core MSCI Emerging Markets IMI Index ETF      TOR      CAD   \n",
      "33  iShares S&amp;P/TSX Composite High Dividend In...      TOR      CAD   \n",
      "34               iShares Core MSCI EAFE IMI Index ETF      TOR      CAD   \n",
      "35   iShares Core S&amp;P U.S. Total Market Index ETF      TOR      CAD   \n",
      "36  iShares Core S&amp;P/TSX Capped Composite Inde...      TOR      CAD   \n",
      "37                     Manulife Financial Corporation      NYQ      USD   \n",
      "38                                          Visa Inc.      NYQ      USD   \n",
      "39                                         Adobe Inc.      NMS      USD   \n",
      "\n",
      "              type                  sector                        industry  \\\n",
      "0           EQUITY       Consumer Cyclical                 Internet Retail   \n",
      "1           EQUITY              Technology         Software—Infrastructure   \n",
      "2           EQUITY              Technology            Consumer Electronics   \n",
      "3           EQUITY      Financial Services                 Capital Markets   \n",
      "4           EQUITY      Financial Services                 Capital Markets   \n",
      "5              ETF                    NULL                            NULL   \n",
      "6         CURRENCY                    NULL                            NULL   \n",
      "7   CRYPTOCURRENCY                    NULL                            NULL   \n",
      "8   CRYPTOCURRENCY                    NULL                            NULL   \n",
      "9              ETF                    NULL                            NULL   \n",
      "10          EQUITY              Technology            Software—Application   \n",
      "11          EQUITY      Financial Services               Banks—Diversified   \n",
      "12          EQUITY      Financial Services               Banks—Diversified   \n",
      "13          EQUITY                  Energy             Oil & Gas Midstream   \n",
      "14          EQUITY             Industrials                       Railroads   \n",
      "15          EQUITY      Financial Services               Banks—Diversified   \n",
      "16          EQUITY      Financial Services               Banks—Diversified   \n",
      "17          EQUITY             Industrials                       Railroads   \n",
      "18          EQUITY             Industrials     Specialty Business Services   \n",
      "19          EQUITY      Financial Services               Banks—Diversified   \n",
      "20          EQUITY  Communication Services  Internet Content & Information   \n",
      "21          EQUITY              Technology                  Semiconductors   \n",
      "22          EQUITY       Consumer Cyclical              Auto Manufacturers   \n",
      "23          EQUITY  Communication Services  Internet Content & Information   \n",
      "24          EQUITY      Financial Services           Insurance—Diversified   \n",
      "25          EQUITY      Financial Services               Banks—Diversified   \n",
      "26          EQUITY      Consumer Defensive   Household & Personal Products   \n",
      "27          EQUITY  Communication Services                   Entertainment   \n",
      "28          EQUITY  Communication Services                   Entertainment   \n",
      "29          EQUITY              Healthcare      Drug Manufacturers—General   \n",
      "30          EQUITY      Consumer Defensive                 Discount Stores   \n",
      "31             ETF                    NULL                            NULL   \n",
      "32             ETF                    NULL                            NULL   \n",
      "33             ETF                    NULL                            NULL   \n",
      "34             ETF                    NULL                            NULL   \n",
      "35             ETF                    NULL                            NULL   \n",
      "36             ETF                    NULL                            NULL   \n",
      "37          EQUITY      Financial Services                  Insurance—Life   \n",
      "38          EQUITY      Financial Services                 Credit Services   \n",
      "39          EQUITY              Technology         Software—Infrastructure   \n",
      "\n",
      "        market     hq_country employees                               website  \n",
      "0    us_market  United States   1468000                https://www.amazon.com  \n",
      "1    us_market  United States    181000             https://www.microsoft.com  \n",
      "2    us_market  United States    154000                 https://www.apple.com  \n",
      "3    us_market         Canada        30                https://hut8mining.com  \n",
      "4    ca_market         Canada        30                https://hut8mining.com  \n",
      "5    us_market           NULL      NULL                                  NULL  \n",
      "6   ccy_market           NULL      NULL                                  NULL  \n",
      "7   ccc_market           NULL      NULL                                  NULL  \n",
      "8   ccc_market           NULL      NULL                                  NULL  \n",
      "9    ca_market           NULL      NULL                                  NULL  \n",
      "10   ca_market         Canada      7000               https://www.shopify.com  \n",
      "11   us_market         Canada     85301                   https://www.rbc.com  \n",
      "12   ca_market         Canada     89464                    https://www.td.com  \n",
      "13   us_market         Canada     11200              https://www.enbridge.com  \n",
      "14   ca_market         Canada     23765                     https://www.cn.ca  \n",
      "15   ca_market         Canada     89488            https://www.scotiabank.com  \n",
      "16   ca_market         Canada     43863                   https://www.bmo.com  \n",
      "17   ca_market         Canada     12262                    https://www.cpr.ca  \n",
      "18   ca_market         Canada     24000        https://www.thomsonreuters.com  \n",
      "19   ca_market         Canada     45282                  https://www.cibc.com  \n",
      "20   us_market  United States    150028                   https://www.abc.xyz  \n",
      "21   us_market  United States     18975                https://www.nvidia.com  \n",
      "22   us_market  United States     70757                 https://www.tesla.com  \n",
      "23   us_market  United States     68177               https://investor.fb.com  \n",
      "24   us_market  United States    360000     https://www.berkshirehathaway.com  \n",
      "25   us_market  United States    265790         https://www.jpmorganchase.com  \n",
      "26   us_market  United States    101000            https://www.pginvestor.com  \n",
      "27   us_market  United States      9400               https://www.netflix.com  \n",
      "28   us_market  United States    152000  https://www.thewaltdisneycompany.com  \n",
      "29   us_market  United States     78500                https://www.pfizer.com  \n",
      "30   us_market  United States    288000                https://www.costco.com  \n",
      "31   ca_market           NULL      NULL                                  NULL  \n",
      "32   ca_market           NULL      NULL                                  NULL  \n",
      "33   ca_market           NULL      NULL                                  NULL  \n",
      "34   ca_market           NULL      NULL                                  NULL  \n",
      "35   ca_market           NULL      NULL                                  NULL  \n",
      "36   ca_market           NULL      NULL                                  NULL  \n",
      "37   us_market         Canada     37000              https://www.manulife.com  \n",
      "38   us_market  United States     21500                  https://usa.visa.com  \n",
      "39   us_market  United States      NULL                 https://www.adobe.com  \n",
      "  exchange_name exchange_timezone exchange_timezone_short\n",
      "0           NMS  America/New_York                     EST\n",
      "1           TOR   America/Toronto                     EST\n",
      "2           PCX  America/New_York                     EST\n",
      "3           CCY     Europe/London                     GMT\n",
      "4           CCC               UTC                     UTC\n",
      "5           NYQ  America/New_York                     EST\n"
     ]
    }
   ],
   "source": [
    "print(v1_frozen_DB.get_table(\"security\"))\n",
    "print(v1_frozen_DB.get_table(\"exchange\"))"
   ]
  },
  {
   "cell_type": "code",
   "execution_count": null,
   "id": "407efe8f",
   "metadata": {},
   "outputs": [],
   "source": []
  }
 ],
 "metadata": {
  "kernelspec": {
   "display_name": "Python 3",
   "language": "python",
   "name": "python3"
  },
  "language_info": {
   "codemirror_mode": {
    "name": "ipython",
    "version": 3
   },
   "file_extension": ".py",
   "mimetype": "text/x-python",
   "name": "python",
   "nbconvert_exporter": "python",
   "pygments_lexer": "ipython3",
   "version": "3.6.9"
  }
 },
 "nbformat": 4,
 "nbformat_minor": 5
}
