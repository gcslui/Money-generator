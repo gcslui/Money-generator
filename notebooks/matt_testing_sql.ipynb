{
 "cells": [
  {
   "cell_type": "markdown",
   "id": "requested-comment",
   "metadata": {},
   "source": [
    "# SQLite3 examples\n",
    "\n",
    "common commands:\n",
    "- CREATE\n",
    "- DROP \n",
    "- INSERT\n",
    "- SELECT\n",
    "- ALTER\n",
    "- UPDATE"
   ]
  },
  {
   "cell_type": "code",
   "execution_count": 1,
   "id": "advance-league",
   "metadata": {},
   "outputs": [],
   "source": [
    "import sqlite3"
   ]
  },
  {
   "cell_type": "code",
   "execution_count": 2,
   "id": "heated-impossible",
   "metadata": {},
   "outputs": [],
   "source": [
    "# need variable for the 'connection' to database dbname\n",
    "dbname = 'dbtesting.db'\n",
    "connection = sqlite3.connect(dbname)"
   ]
  },
  {
   "cell_type": "code",
   "execution_count": 3,
   "id": "ongoing-runner",
   "metadata": {},
   "outputs": [],
   "source": [
    "# need a \"cursor\" to interact with the database\n",
    "cursor = connection.cursor()\n",
    "\n",
    "# close the connection (best practice?)\n",
    "connection.close()"
   ]
  },
  {
   "cell_type": "markdown",
   "id": "numeric-fitness",
   "metadata": {},
   "source": [
    "**Example: creating a table**"
   ]
  },
  {
   "cell_type": "code",
   "execution_count": 4,
   "id": "overhead-cleanup",
   "metadata": {},
   "outputs": [],
   "source": [
    "# treating these two as \"header lines\" for any modular db interactions\n",
    "connection = sqlite3.connect(dbname)\n",
    "cursor = connection.cursor()"
   ]
  },
  {
   "cell_type": "code",
   "execution_count": 5,
   "id": "silent-october",
   "metadata": {},
   "outputs": [],
   "source": [
    "# example: creating a table\n",
    "# note 1: case matters within execute()\n",
    "# note 2: triple quotes for multiple lines, one line if using single quotes\n",
    "# note 3: there are only 5 datatypes to choose from for SQLite3\n",
    "#  a) NULL\n",
    "#  b) INTEGER\n",
    "#  c) REAL\n",
    "#  d) TEXT\n",
    "#  e) BLOB (e.g. image or music file; store \"as is\")\n",
    "cursor.execute(\"\"\"CREATE TABLE customers (\n",
    "        first_name TEXT,\n",
    "        last_name TEXT,\n",
    "        email TEXT\n",
    "    )\"\"\")\n",
    "\n",
    "# changes need to be \"committed\" to the database\n",
    "connection.commit()\n",
    "\n",
    "# close the connection\n",
    "connection.close()"
   ]
  },
  {
   "cell_type": "markdown",
   "id": "referenced-sarah",
   "metadata": {},
   "source": [
    "**Example: re-open the db and add data to table**"
   ]
  },
  {
   "cell_type": "code",
   "execution_count": 6,
   "id": "ecological-journal",
   "metadata": {},
   "outputs": [],
   "source": [
    "connection = sqlite3.connect(dbname)\n",
    "cursor = connection.cursor()\n",
    "\n",
    "cursor.execute(\"INSERT INTO customers VALUES ('John', 'Smith', 'js@js.com')\")\n",
    "cursor.execute(\"INSERT INTO customers VALUES ('Mary', 'Smith', 'ms@ms.com')\")\n",
    "cursor.execute(\"INSERT INTO customers VALUES ('Donald', 'Duck', 'duck@disney.com')\")\n",
    "\n",
    "connection.commit()\n",
    "connection.close()"
   ]
  },
  {
   "cell_type": "markdown",
   "id": "rapid-mapping",
   "metadata": {},
   "source": [
    "**Example: queries, fetching from the database**\n",
    "\n",
    "- note: within a connection, these fetches appear to affect eachother,\n",
    "- e.g. calling fetchone() twice will return first two elements in sequence\n",
    "- e.g. calling fetchall() once returns whole table, again returns empty list\n",
    "- can add or omit rowid from the fetch\n",
    "  - omit: \"SELECT * FROM customers\"\n",
    "  - add: \"SELECT rowid, * FROM customers\""
   ]
  },
  {
   "cell_type": "code",
   "execution_count": 7,
   "id": "interior-needle",
   "metadata": {},
   "outputs": [
    {
     "name": "stdout",
     "output_type": "stream",
     "text": [
      "s1 <class 'tuple'>\n",
      "s2 <class 'list'>\n",
      "s3 <class 'list'>\n",
      "\n",
      "s1: ('John', 'Smith', 'js@js.com')\n",
      "s2: [('Mary', 'Smith', 'ms@ms.com'), ('Donald', 'Duck', 'duck@disney.com')]\n",
      "s3: []\n",
      "\n",
      "Calling fetchall() after all the above calls... is empty\n",
      "[]\n"
     ]
    }
   ],
   "source": [
    "connection = sqlite3.connect(dbname)\n",
    "cursor = connection.cursor()\n",
    "\n",
    "cursor.execute(\"SELECT * FROM customers\")\n",
    "\n",
    "s1 = cursor.fetchone()    # fetches first row\n",
    "s2 = cursor.fetchmany(3)  # fetches next n=3 rows\n",
    "s3 = cursor.fetchall()    # fetches (remainder of) whole table\n",
    "\n",
    "print('s1', type(s1))\n",
    "print('s2', type(s2))\n",
    "print('s3', type(s3))\n",
    "\n",
    "print('\\ns1:', s1)\n",
    "print('s2:', s2)\n",
    "print('s3:', s3)\n",
    "\n",
    "print('\\nCalling fetchall() after all the above calls... is empty',)\n",
    "print(cursor.fetchall())  # see note in markdown above\n",
    "\n",
    "connection.commit()\n",
    "connection.close()"
   ]
  },
  {
   "cell_type": "code",
   "execution_count": 8,
   "id": "tribal-yorkshire",
   "metadata": {
    "scrolled": true
   },
   "outputs": [
    {
     "name": "stdout",
     "output_type": "stream",
     "text": [
      "(1, 'John', 'Smith', 'js@js.com')\n",
      "(2, 'Mary', 'Smith', 'ms@ms.com')\n",
      "(3, 'Donald', 'Duck', 'duck@disney.com')\n"
     ]
    }
   ],
   "source": [
    "connection = sqlite3.connect(dbname)\n",
    "cursor = connection.cursor()\n",
    "\n",
    "cursor.execute(\"SELECT rowid, * FROM customers\")\n",
    "\n",
    "fulltable = cursor.fetchall()    # fetches whole table\n",
    "\n",
    "for elem in fulltable:\n",
    "    print(elem)\n",
    "\n",
    "connection.commit()\n",
    "connection.close()"
   ]
  },
  {
   "cell_type": "markdown",
   "id": "reflected-minnesota",
   "metadata": {},
   "source": [
    "**Example: more detailed queries using WHERE**\n",
    "- for numeric values can use >, =, <, etc. \n",
    "- can use AND/OR, for example: `WHERE email LIKE '%.com' OR rowid = 3`"
   ]
  },
  {
   "cell_type": "code",
   "execution_count": 9,
   "id": "acting-yeast",
   "metadata": {
    "scrolled": true
   },
   "outputs": [
    {
     "name": "stdout",
     "output_type": "stream",
     "text": [
      "(1, 'John', 'Smith', 'js@js.com')\n",
      "(2, 'Mary', 'Smith', 'ms@ms.com')\n"
     ]
    }
   ],
   "source": [
    "connection = sqlite3.connect(dbname)\n",
    "cursor = connection.cursor()\n",
    "\n",
    "cursor.execute(\"SELECT rowid, * FROM customers WHERE last_name = 'Smith'\")\n",
    "\n",
    "fulltable = cursor.fetchall()    # fetches whole table\n",
    "\n",
    "for elem in fulltable:\n",
    "    print(elem)\n",
    "\n",
    "connection.commit()\n",
    "connection.close()"
   ]
  },
  {
   "cell_type": "code",
   "execution_count": 10,
   "id": "hungry-communist",
   "metadata": {},
   "outputs": [
    {
     "name": "stdout",
     "output_type": "stream",
     "text": [
      "(1, 'John', 'Smith', 'js@js.com')\n",
      "(2, 'Mary', 'Smith', 'ms@ms.com')\n",
      "(3, 'Donald', 'Duck', 'duck@disney.com')\n"
     ]
    }
   ],
   "source": [
    "connection = sqlite3.connect(dbname)\n",
    "cursor = connection.cursor()\n",
    "\n",
    "cursor.execute(\"SELECT rowid, * FROM customers WHERE email LIKE '%@%.com'\")\n",
    "\n",
    "fulltable = cursor.fetchall()    # fetches whole table\n",
    "\n",
    "for elem in fulltable:\n",
    "    print(elem)\n",
    "\n",
    "connection.commit()\n",
    "connection.close()"
   ]
  },
  {
   "cell_type": "markdown",
   "id": "heavy-technical",
   "metadata": {},
   "source": [
    "**Example: post-processing queries with LIMIT and ORDER BY**"
   ]
  },
  {
   "cell_type": "code",
   "execution_count": 12,
   "id": "nasty-pavilion",
   "metadata": {},
   "outputs": [
    {
     "name": "stdout",
     "output_type": "stream",
     "text": [
      "Full data:\n",
      "(1, 'John', 'Smith', 'js@js.com')\n",
      "(2, 'Mary', 'Smith', 'ms@ms.com')\n",
      "(3, 'Donald', 'Duck', 'duck@disney.com')\n",
      "Modified fetch:\n",
      "(3, 'Donald', 'Duck', 'duck@disney.com')\n",
      "(2, 'Mary', 'Smith', 'ms@ms.com')\n"
     ]
    }
   ],
   "source": [
    "connection = sqlite3.connect(dbname)\n",
    "cursor = connection.cursor()\n",
    "\n",
    "print('Full data:')\n",
    "cursor.execute(\"SELECT rowid, * FROM customers\")\n",
    "for elem in cursor.fetchall():\n",
    "    print(elem)\n",
    "\n",
    "print('Modified fetch:')\n",
    "cursor.execute(\"SELECT rowid, * FROM customers ORDER BY rowid DESC LIMIT 2\")\n",
    "for elem in cursor.fetchall():\n",
    "    print(elem)\n",
    "\n",
    "connection.commit()\n",
    "connection.close()"
   ]
  },
  {
   "cell_type": "markdown",
   "id": "connected-prague",
   "metadata": {},
   "source": [
    "**Example: updating tables**"
   ]
  },
  {
   "cell_type": "code",
   "execution_count": null,
   "id": "italian-butterfly",
   "metadata": {},
   "outputs": [],
   "source": [
    "connection = sqlite3.connect(dbname)\n",
    "cursor = connection.cursor()\n",
    "\n",
    "print('Before update:')\n",
    "cursor.execute(\"SELECT rowid, * FROM customers\")\n",
    "data_before = cursor.fetchall()\n",
    "for elem in data_before:\n",
    "    print(elem)\n",
    "\n",
    "cursor.execute(\"\"\"UPDATE customers SET first_name = 'Jeb'\n",
    "        WHERE rowid = 1\n",
    "    \"\"\")\n",
    "\n",
    "print('After update:')\n",
    "cursor.execute(\"SELECT rowid, * FROM customers\")\n",
    "data_after = cursor.fetchall()\n",
    "for elem in data_after:\n",
    "    print(elem)\n",
    "\n",
    "connection.commit()\n",
    "connection.close()"
   ]
  },
  {
   "cell_type": "markdown",
   "id": "every-trunk",
   "metadata": {},
   "source": [
    "**Example: delete a row**"
   ]
  },
  {
   "cell_type": "code",
   "execution_count": null,
   "id": "studied-handbook",
   "metadata": {},
   "outputs": [],
   "source": [
    "connection = sqlite3.connect(dbname)\n",
    "cursor = connection.cursor()\n",
    "\n",
    "print('Before update:')\n",
    "cursor.execute(\"SELECT rowid, * FROM customers\")\n",
    "data_before = cursor.fetchall()\n",
    "for elem in data_before:\n",
    "    print(elem)\n",
    "\n",
    "cursor.execute(\"DELETE FROM customers WHERE rowid = 1\")\n",
    "\n",
    "print('After update:')\n",
    "cursor.execute(\"SELECT rowid, * FROM customers\")\n",
    "data_after = cursor.fetchall()\n",
    "for elem in data_after:\n",
    "    print(elem)\n",
    "\n",
    "connection.commit()\n",
    "connection.close()"
   ]
  },
  {
   "cell_type": "markdown",
   "id": "every-legislation",
   "metadata": {},
   "source": [
    "**Example: deleting tables**"
   ]
  },
  {
   "cell_type": "code",
   "execution_count": null,
   "id": "persistent-immunology",
   "metadata": {},
   "outputs": [],
   "source": [
    "connection = sqlite3.connect(dbname)\n",
    "cursor = connection.cursor()\n",
    "\n",
    "cursor.execute(\"DROP TABLE customers\")\n",
    "\n",
    "connection.commit()\n",
    "connection.close()"
   ]
  },
  {
   "cell_type": "code",
   "execution_count": null,
   "id": "colored-ozone",
   "metadata": {},
   "outputs": [],
   "source": []
  }
 ],
 "metadata": {
  "kernelspec": {
   "display_name": "Python 3",
   "language": "python",
   "name": "python3"
  },
  "language_info": {
   "codemirror_mode": {
    "name": "ipython",
    "version": 3
   },
   "file_extension": ".py",
   "mimetype": "text/x-python",
   "name": "python",
   "nbconvert_exporter": "python",
   "pygments_lexer": "ipython3",
   "version": "3.8.7"
  }
 },
 "nbformat": 4,
 "nbformat_minor": 5
}
