{
 "cells": [
  {
   "cell_type": "code",
   "execution_count": 1,
   "id": "c0bd252c",
   "metadata": {
    "ExecuteTime": {
     "end_time": "2021-11-17T04:18:43.705877Z",
     "start_time": "2021-11-17T04:18:43.695867Z"
    }
   },
   "outputs": [],
   "source": [
    "import sys  \n",
    "sys.path.insert(0, '..')"
   ]
  },
  {
   "cell_type": "code",
   "execution_count": 2,
   "id": "b8b66673",
   "metadata": {
    "ExecuteTime": {
     "end_time": "2021-11-17T04:18:43.737344Z",
     "start_time": "2021-11-17T04:18:43.706878Z"
    }
   },
   "outputs": [
    {
     "ename": "ModuleNotFoundError",
     "evalue": "No module named 'db_settings'",
     "output_type": "error",
     "traceback": [
      "\u001B[1;31m---------------------------------------------------------------------------\u001B[0m",
      "\u001B[1;31mModuleNotFoundError\u001B[0m                       Traceback (most recent call last)",
      "\u001B[1;32m~\\AppData\\Local\\Temp/ipykernel_4516/1444172991.py\u001B[0m in \u001B[0;36m<module>\u001B[1;34m\u001B[0m\n\u001B[1;32m----> 1\u001B[1;33m \u001B[1;32mfrom\u001B[0m \u001B[0mlocal_ms\u001B[0m\u001B[1;33m.\u001B[0m\u001B[0mdb_utils\u001B[0m \u001B[1;32mimport\u001B[0m \u001B[1;33m*\u001B[0m\u001B[1;33m\u001B[0m\u001B[1;33m\u001B[0m\u001B[0m\n\u001B[0m\u001B[0;32m      2\u001B[0m \u001B[1;32mimport\u001B[0m \u001B[0msqlite3\u001B[0m\u001B[1;33m\u001B[0m\u001B[1;33m\u001B[0m\u001B[0m\n",
      "\u001B[1;32mD:\\Nextcloud\\SideProjects\\HLML\\Money-generator\\notebooks\\..\\local_ms\\db_utils.py\u001B[0m in \u001B[0;36m<module>\u001B[1;34m\u001B[0m\n\u001B[0;32m      1\u001B[0m \u001B[1;32mimport\u001B[0m \u001B[0msqlite3\u001B[0m\u001B[1;33m\u001B[0m\u001B[1;33m\u001B[0m\u001B[0m\n\u001B[0;32m      2\u001B[0m \u001B[1;33m\u001B[0m\u001B[0m\n\u001B[1;32m----> 3\u001B[1;33m \u001B[1;32mfrom\u001B[0m \u001B[0mdb_settings\u001B[0m \u001B[1;32mimport\u001B[0m \u001B[0mDB_PATH\u001B[0m\u001B[1;33m,\u001B[0m \u001B[0mDB_TABLE_PRIMARY\u001B[0m\u001B[1;33m\u001B[0m\u001B[1;33m\u001B[0m\u001B[0m\n\u001B[0m\u001B[0;32m      4\u001B[0m \u001B[1;33m\u001B[0m\u001B[0m\n\u001B[0;32m      5\u001B[0m \u001B[1;33m\u001B[0m\u001B[0m\n",
      "\u001B[1;31mModuleNotFoundError\u001B[0m: No module named 'db_settings'"
     ]
    }
   ],
   "source": [
    "from local_ms.db_utils import *\n",
    "import sqlite3"
   ]
  },
  {
   "cell_type": "code",
   "execution_count": 3,
   "id": "4bd0337f",
   "metadata": {
    "ExecuteTime": {
     "end_time": "2021-11-17T04:18:43.800742Z",
     "start_time": "2021-11-17T04:18:43.738345Z"
    }
   },
   "outputs": [],
   "source": [
    "%load_ext autoreload\n",
    "%autoreload 2"
   ]
  },
  {
   "cell_type": "code",
   "execution_count": 4,
   "id": "bf8f8b14",
   "metadata": {
    "ExecuteTime": {
     "end_time": "2021-11-17T04:18:43.927063Z",
     "start_time": "2021-11-17T04:18:43.872409Z"
    }
   },
   "outputs": [],
   "source": [
    "class DatabaseConnection(object):\n",
    "    def __init__(self, file_name):\n",
    "        self.file_name = file_name\n",
    "      \n",
    "    def __enter__(self):\n",
    "        self.db = sqlite3.connect(self.file_name)\n",
    "        return self.db\n",
    "  \n",
    "    def __exit__(self, exception_type, exception_value, tb):\n",
    "        self.db.commit()\n",
    "        self.db.close()"
   ]
  },
  {
   "cell_type": "code",
   "execution_count": 14,
   "id": "92a06e64",
   "metadata": {
    "ExecuteTime": {
     "end_time": "2021-11-17T04:21:45.245269Z",
     "start_time": "2021-11-17T04:21:45.198070Z"
    }
   },
   "outputs": [],
   "source": [
    "def db_show_all():\n",
    "    with DatabaseConnection('../local_ms/database_yfinance.db') as db:\n",
    "        cur = db.cursor()\n",
    "        cur.execute(\"SELECT rowid, * FROM {}\".format(DB_TABLE_PRIMARY))\n",
    "        fulltable = cur.fetchall()\n",
    "\n",
    "        for elem in fulltable:\n",
    "            print(elem)\n",
    "    return\n",
    "\n",
    "def db_add_row(first_name, last_name, email):\n",
    "    with DatabaseConnection('../local_ms/database_yfinance.db') as db:\n",
    "        cur = db.cursor()\n",
    "        cur.execute(\"INSERT INTO yfinance VALUES (?,?,?)\",\n",
    "                   (first_name, last_name, email))\n",
    "        fulltable = cur.fetchall()\n",
    "\n",
    "        for elem in fulltable:\n",
    "            print(elem)\n",
    "    return"
   ]
  },
  {
   "cell_type": "code",
   "execution_count": 15,
   "id": "8091609b",
   "metadata": {
    "ExecuteTime": {
     "end_time": "2021-11-17T04:22:11.299062Z",
     "start_time": "2021-11-17T04:22:11.131498Z"
    }
   },
   "outputs": [],
   "source": [
    "db_add_row('John','McDonald','jm@fakeemail.com')"
   ]
  },
  {
   "cell_type": "code",
   "execution_count": 16,
   "id": "2e750826",
   "metadata": {
    "ExecuteTime": {
     "end_time": "2021-11-17T04:22:15.476442Z",
     "start_time": "2021-11-17T04:22:15.431400Z"
    }
   },
   "outputs": [
    {
     "name": "stdout",
     "output_type": "stream",
     "text": [
      "(1, 'John', 'Smith', 'js@js.com')\n",
      "(3, 'Donald', 'Duck', 'duck@disney.com')\n",
      "(4, 'John', 'McDonald', 'jm@fakeemail.com')\n"
     ]
    }
   ],
   "source": [
    "db_show_all()"
   ]
  },
  {
   "cell_type": "code",
   "execution_count": null,
   "id": "aa2e7890",
   "metadata": {},
   "outputs": [],
   "source": []
  }
 ],
 "metadata": {
  "kernelspec": {
   "display_name": "Python [conda env:pytorch] *",
   "language": "python",
   "name": "conda-env-pytorch-py"
  },
  "language_info": {
   "codemirror_mode": {
    "name": "ipython",
    "version": 3
   },
   "file_extension": ".py",
   "mimetype": "text/x-python",
   "name": "python",
   "nbconvert_exporter": "python",
   "pygments_lexer": "ipython3",
   "version": "3.8.11"
  },
  "toc": {
   "base_numbering": 1,
   "nav_menu": {},
   "number_sections": true,
   "sideBar": true,
   "skip_h1_title": false,
   "title_cell": "Table of Contents",
   "title_sidebar": "Contents",
   "toc_cell": false,
   "toc_position": {},
   "toc_section_display": true,
   "toc_window_display": false
  }
 },
 "nbformat": 4,
 "nbformat_minor": 5
}