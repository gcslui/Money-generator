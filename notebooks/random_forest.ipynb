{
 "cells": [
  {
   "cell_type": "code",
   "execution_count": 1,
   "id": "636fd16e",
   "metadata": {},
   "outputs": [],
   "source": [
    "import matplotlib.pyplot as plt\n",
    "import numpy as np\n",
    "import os\n",
    "import pandas as pd\n",
    "import sqlite3 as sql\n",
    "import sys\n",
    "import yfinance as yf"
   ]
  },
  {
   "cell_type": "code",
   "execution_count": 2,
   "id": "taken-geneva",
   "metadata": {},
   "outputs": [],
   "source": [
    "sys.path.append('../')\n",
    "\n",
    "from src.db_default import DB_DIR, DB_FROZEN_VARIANTS\n",
    "from src.db_class import DBCursor, FinanceDB"
   ]
  },
  {
   "cell_type": "markdown",
   "id": "6da1695c",
   "metadata": {},
   "source": [
    "### Pulling data from DB"
   ]
  },
  {
   "cell_type": "code",
   "execution_count": 3,
   "id": "6effdb86",
   "metadata": {},
   "outputs": [],
   "source": [
    "db_variant_label = 'v1'\n",
    "db_filename = DB_FROZEN_VARIANTS['v1']['db_filename']\n",
    "finance_db = FinanceDB(db_filename)"
   ]
  },
  {
   "cell_type": "code",
   "execution_count": 4,
   "id": "540faacb",
   "metadata": {},
   "outputs": [],
   "source": [
    "ticker = 'BTC-USD'\n",
    "df = finance_db.get_daily_per_ticker(ticker)"
   ]
  },
  {
   "cell_type": "code",
   "execution_count": 5,
   "id": "burning-affiliate",
   "metadata": {},
   "outputs": [],
   "source": [
    "#print(df)"
   ]
  },
  {
   "cell_type": "markdown",
   "id": "olympic-vegetarian",
   "metadata": {},
   "source": [
    "### Prepare Random Forest"
   ]
  },
  {
   "cell_type": "markdown",
   "id": "streaming-bermuda",
   "metadata": {},
   "source": [
    "#### Settings"
   ]
  },
  {
   "cell_type": "code",
   "execution_count": 6,
   "id": "fantastic-crisis",
   "metadata": {},
   "outputs": [],
   "source": [
    "from sklearn.model_selection import train_test_split\n",
    "from sklearn.ensemble import RandomForestClassifier"
   ]
  },
  {
   "cell_type": "code",
   "execution_count": 7,
   "id": "seventh-kennedy",
   "metadata": {},
   "outputs": [],
   "source": [
    "column_choice = 'close'\n",
    "use_random_data_instead_of_database = False\n",
    "\n",
    "assert column_choice in ['open', 'high', 'low', 'close', 'adjusted_close', 'volume']"
   ]
  },
  {
   "cell_type": "code",
   "execution_count": 8,
   "id": "public-kennedy",
   "metadata": {},
   "outputs": [],
   "source": [
    "seed_1 = 0  # for random data gen\n",
    "seed_2 = 0  # for train test split\n",
    "seed_3 = 0  # for RandomForest classifier"
   ]
  },
  {
   "cell_type": "code",
   "execution_count": 9,
   "id": "olive-gravity",
   "metadata": {},
   "outputs": [],
   "source": [
    "seq_size = 5"
   ]
  },
  {
   "cell_type": "markdown",
   "id": "pregnant-content",
   "metadata": {},
   "source": [
    "#### Prep data"
   ]
  },
  {
   "cell_type": "code",
   "execution_count": 10,
   "id": "breeding-doubt",
   "metadata": {},
   "outputs": [],
   "source": [
    "if use_random_data_instead_of_database:\n",
    "    np.random.seed(seed_1)\n",
    "    raw_data = np.random.normal(loc=1, scale=0.1, size=100000)\n",
    "else:\n",
    "    raw_data = df[column_choice].values\n",
    "\n",
    "# np.random.shuffle(raw_data)"
   ]
  },
  {
   "cell_type": "code",
   "execution_count": 11,
   "id": "6af8564d",
   "metadata": {},
   "outputs": [],
   "source": [
    "frac_diff = raw_data[1:] - raw_data[:-1]\n",
    "# frac_diff = diff / raw_data[:-1]\n",
    "# frac_diff = raw_data\n",
    "\n",
    "n_samples = len(frac_diff) // (seq_size+1)\n",
    "if len(frac_diff) % (seq_size+1) != 0:\n",
    "    relative_data = frac_diff[:-(len(frac_diff) % (seq_size+1))]\n",
    "else:\n",
    "    relative_data = frac_diff\n",
    "    \n",
    "relative_data = relative_data.reshape((n_samples, (seq_size+1)))\n",
    "\n",
    "X = relative_data[:, :seq_size]\n",
    "Y = np.sign(relative_data[:, -1])\n",
    "\n",
    "X_train, X_test, Y_train, Y_test = train_test_split(X, Y, train_size=0.8, test_size=0.2, random_state=seed_2)"
   ]
  },
  {
   "cell_type": "markdown",
   "id": "southwest-percentage",
   "metadata": {},
   "source": [
    "#### Analyze data"
   ]
  },
  {
   "cell_type": "code",
   "execution_count": 12,
   "id": "3c9f84d3",
   "metadata": {},
   "outputs": [
    {
     "name": "stdout",
     "output_type": "stream",
     "text": [
      "18.368944785660542\n"
     ]
    },
    {
     "data": {
      "image/png": "[encoded data removed]",
      "text/plain": [
       "<Figure size 432x288 with 1 Axes>"
      ]
     },
     "metadata": {
      "needs_background": "light"
     },
     "output_type": "display_data"
    }
   ],
   "source": [
    "print(np.mean(frac_diff))\n",
    "\n",
    "plt.hist(frac_diff, bins=np.linspace(-9.5, 9.5, 20))\n",
    "plt.show()"
   ]
  },
  {
   "cell_type": "code",
   "execution_count": 13,
   "id": "526adecd",
   "metadata": {},
   "outputs": [
    {
     "name": "stdout",
     "output_type": "stream",
     "text": [
      "0.1085972850678733\n"
     ]
    },
    {
     "data": {
      "image/png": "[encoded data removed]",
      "text/plain": [
       "<Figure size 432x288 with 1 Axes>"
      ]
     },
     "metadata": {
      "needs_background": "light"
     },
     "output_type": "display_data"
    }
   ],
   "source": [
    "print(np.mean(Y))\n",
    "\n",
    "plt.hist(Y, bins=np.linspace(-9.5, 9.5, 20))\n",
    "plt.show()"
   ]
  },
  {
   "cell_type": "markdown",
   "id": "funny-debut",
   "metadata": {},
   "source": [
    "#### Train classifer"
   ]
  },
  {
   "cell_type": "code",
   "execution_count": 14,
   "id": "twelve-transaction",
   "metadata": {},
   "outputs": [],
   "source": [
    "classifer = RandomForestClassifier\n",
    "\n",
    "myRF_clf = classifer(\n",
    "        n_estimators=100,\n",
    "        max_depth=None, \n",
    "        min_samples_split=2, # minimum number of sample per leaf\n",
    "        oob_score=True,\n",
    "        random_state=seed_3,\n",
    "        warm_start=False # this ensures that you add estimators without retraining everything\n",
    "    )"
   ]
  },
  {
   "cell_type": "code",
   "execution_count": 15,
   "id": "f6778548",
   "metadata": {},
   "outputs": [
    {
     "name": "stdout",
     "output_type": "stream",
     "text": [
      "1.0 0.5184135977337111\n",
      "0.5056179775280899\n"
     ]
    }
   ],
   "source": [
    "myRF_clf.fit(X_train, Y_train)\n",
    "\n",
    "print(myRF_clf.score(X_train,Y_train), myRF_clf.oob_score_)\n",
    "print(myRF_clf.score(X_test,Y_test))"
   ]
  },
  {
   "cell_type": "code",
   "execution_count": 16,
   "id": "44305d98",
   "metadata": {},
   "outputs": [
    {
     "name": "stdout",
     "output_type": "stream",
     "text": [
      "(442, 5) (442,)\n"
     ]
    }
   ],
   "source": [
    "print(X.shape, Y.shape)"
   ]
  },
  {
   "cell_type": "code",
   "execution_count": 17,
   "id": "18e016ce",
   "metadata": {},
   "outputs": [
    {
     "name": "stdout",
     "output_type": "stream",
     "text": [
      "[[-32.89401245 -29.64401245  14.10800171 -10.08297729   3.33099365]\n",
      " [-12.58599854 -11.63098145  -7.14901733  -4.90499878 -22.33898926]\n",
      " [ 11.47698975  -3.32901001  -8.54299927 -15.55999756 -30.64599609]\n",
      " [  9.56900024   6.10800171  16.75299072  12.08599854  -3.46398926]\n",
      " [ 16.25        11.86499023  10.45599365  -6.09698486 -12.2170105 ]\n",
      " [  7.68399048  -1.89599609  -6.70098877   3.63000488  -3.3170166 ]\n",
      " [ -0.07199097 -11.07400513   7.43301392  -1.71499634   4.6289978 ]\n",
      " [  9.71398926  -6.98397827 -12.57202148   0.14300537   1.6619873 ]\n",
      " [  8.99398804   9.80401611  -6.875        3.07299805  17.77600098]\n",
      " [  0.77099609  55.86599731  -2.82601929 -22.91699219 -21.68499756]] [ 1. -1. -1.  1.  1. -1. -1.  1.  1.  1.]\n"
     ]
    }
   ],
   "source": [
    "print(X[:10], Y[:10])"
   ]
  },
  {
   "cell_type": "code",
   "execution_count": 18,
   "id": "c9640b57",
   "metadata": {},
   "outputs": [
    {
     "name": "stdout",
     "output_type": "stream",
     "text": [
      "43.0 5.0\n"
     ]
    }
   ],
   "source": [
    "print(sum(Y_train), sum(Y_test))"
   ]
  }
 ],
 "metadata": {
  "kernelspec": {
   "display_name": "Python 3",
   "language": "python",
   "name": "python3"
  },
  "language_info": {
   "codemirror_mode": {
    "name": "ipython",
    "version": 3
   },
   "file_extension": ".py",
   "mimetype": "text/x-python",
   "name": "python",
   "nbconvert_exporter": "python",
   "pygments_lexer": "ipython3",
   "version": "3.8.7"
  }
 },
 "nbformat": 4,
 "nbformat_minor": 5
}
