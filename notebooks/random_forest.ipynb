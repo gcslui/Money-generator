{
 "cells": [
  {
   "cell_type": "code",
   "execution_count": 1,
   "id": "636fd16e",
   "metadata": {},
   "outputs": [],
   "source": [
    "import numpy, os\n",
    "import sqlite3 as sql\n",
    "import yfinance as yf\n",
    "import pandas as pd\n",
    "\n",
    "from src.db_default import db_tables, db_dir, db_tickers\n",
    "from src.db_class import DBCursor, FinanceDB"
   ]
  },
  {
   "cell_type": "markdown",
   "id": "6da1695c",
   "metadata": {},
   "source": [
    "### Pulling data from DB\n"
   ]
  },
  {
   "cell_type": "code",
   "execution_count": 2,
   "id": "6effdb86",
   "metadata": {},
   "outputs": [],
   "source": [
    "financedb = FinanceDB('/home/tiantian/temporary/financial_db/finance.db')"
   ]
  },
  {
   "cell_type": "code",
   "execution_count": 3,
   "id": "540faacb",
   "metadata": {},
   "outputs": [
    {
     "data": {
      "text/plain": [
       "[(0, 'security_ticker', 'INT', 0, None, 1),\n",
       " (1, 'date', 'TEXT', 0, None, 2),\n",
       " (2, 'open', 'REAL', 0, None, 0),\n",
       " (3, 'high', 'REAL', 0, None, 0),\n",
       " (4, 'low', 'REAL', 0, None, 0),\n",
       " (5, 'close', 'REAL', 0, None, 0),\n",
       " (6, 'volume', 'INT', 0, None, 0),\n",
       " (7, 'adj_close', 'REAL', 0, None, 0)]"
      ]
     },
     "execution_count": 3,
     "metadata": {},
     "output_type": "execute_result"
    }
   ],
   "source": [
    "financedb.execute(\"PRAGMA table_info(security_price)\")"
   ]
  },
  {
   "cell_type": "code",
   "execution_count": 4,
   "id": "97946e0e",
   "metadata": {},
   "outputs": [
    {
     "data": {
      "text/plain": [
       "[('company',),\n",
       " ('exchange',),\n",
       " ('security',),\n",
       " ('security_price',),\n",
       " ('security_price_intraday',),\n",
       " ('stock_adjustment',)]"
      ]
     },
     "execution_count": 4,
     "metadata": {},
     "output_type": "execute_result"
    }
   ],
   "source": [
    "financedb.execute(\"\"\"SELECT name FROM sqlite_schema\n",
    "                        WHERE type='table'\n",
    "                        ORDER BY name;\"\"\")"
   ]
  },
  {
   "cell_type": "code",
   "execution_count": 15,
   "id": "9e9a320c",
   "metadata": {},
   "outputs": [
    {
     "data": {
      "text/plain": [
       "[]"
      ]
     },
     "execution_count": 15,
     "metadata": {},
     "output_type": "execute_result"
    }
   ],
   "source": [
    "msft = financedb.execute(\"\"\"SELECT close FROM security_price\n",
    "                            WHERE security_ticker = 'MSFT'\n",
    "                            ORDER BY date ASC\"\"\")\n",
    "msft = np.array(msft)"
   ]
  },
  {
   "cell_type": "code",
   "execution_count": 40,
   "id": "6af8564d",
   "metadata": {},
   "outputs": [],
   "source": [
    "from sklearn.model_selection import train_test_split\n",
    "\n",
    "seed1 = 2\n",
    "seed2 = 0\n",
    "seed3 = 0\n",
    "\n",
    "numpy.random.seed(seed1)\n",
    "msft = numpy.random.normal(loc=1, scale=0.1, size=100000)\n",
    "\n",
    "numpy.random.shuffle(msft)\n",
    "\n",
    "seq_size = 2\n",
    "\n",
    "frac_diff = msft[1:] - msft[:-1]\n",
    "# frac_diff = diff/msft[:-1]\n",
    "# frac_diff = msft\n",
    "\n",
    "n_samples = len(frac_diff) // (seq_size+1)\n",
    "if len(frac_diff)%(seq_size+1) != 0:\n",
    "    data = frac_diff[:-(len(frac_diff)%(seq_size+1))]\n",
    "else:\n",
    "    data = frac_diff\n",
    "    \n",
    "data = data.reshape((n_samples, (seq_size+1)))\n",
    "X = data[:,:seq_size]\n",
    "Y = numpy.sign(data[:,-1])\n",
    "\n",
    "X_train,X_test,Y_train,Y_test=train_test_split(X,Y,train_size=0.8,test_size=0.2, random_state=seed2)"
   ]
  },
  {
   "cell_type": "code",
   "execution_count": 41,
   "id": "3c9f84d3",
   "metadata": {},
   "outputs": [
    {
     "name": "stdout",
     "output_type": "stream",
     "text": [
      "1.0824309438163965e-06\n"
     ]
    },
    {
     "data": {
      "image/png": "[encoded data removed]",
      "text/plain": [
       "<Figure size 432x288 with 1 Axes>"
      ]
     },
     "metadata": {
      "needs_background": "light"
     },
     "output_type": "display_data"
    }
   ],
   "source": [
    "import matplotlib.pyplot as plt\n",
    "\n",
    "print(numpy.mean(frac_diff))\n",
    "\n",
    "plt.hist(frac_diff, bins=numpy.linspace(-9.5, 9.5, 20))\n",
    "plt.show()"
   ]
  },
  {
   "cell_type": "code",
   "execution_count": 42,
   "id": "526adecd",
   "metadata": {},
   "outputs": [
    {
     "name": "stdout",
     "output_type": "stream",
     "text": [
      "0.0003900039000390004\n"
     ]
    },
    {
     "data": {
      "image/png": "[encoded data removed]",
      "text/plain": [
       "<Figure size 432x288 with 1 Axes>"
      ]
     },
     "metadata": {
      "needs_background": "light"
     },
     "output_type": "display_data"
    }
   ],
   "source": [
    "print(numpy.mean(Y))\n",
    "\n",
    "plt.hist(Y, bins=numpy.linspace(-9.5, 9.5, 20))\n",
    "plt.show()"
   ]
  },
  {
   "cell_type": "code",
   "execution_count": 43,
   "id": "f6778548",
   "metadata": {},
   "outputs": [
    {
     "name": "stdout",
     "output_type": "stream",
     "text": [
      "0.9999249981249532 0.6536038400960024\n",
      "0.6515674216289186\n"
     ]
    }
   ],
   "source": [
    "from sklearn.ensemble import RandomForestClassifier\n",
    "\n",
    "classifer = RandomForestClassifier\n",
    "\n",
    "myRF_clf = classifer(\n",
    "        n_estimators=100,\n",
    "        max_depth=None, \n",
    "        min_samples_split=2, # minimum number of sample per leaf\n",
    "        oob_score=True,\n",
    "        random_state=seed3,\n",
    "        warm_start=False # this ensures that you add estimators without retraining everything\n",
    "    )\n",
    "\n",
    "myRF_clf.fit(X_train, Y_train)\n",
    "\n",
    "print(myRF_clf.score(X_train,Y_train),myRF_clf.oob_score_)\n",
    "print(myRF_clf.score(X_test,Y_test))"
   ]
  },
  {
   "cell_type": "code",
   "execution_count": 14,
   "id": "44305d98",
   "metadata": {},
   "outputs": [
    {
     "name": "stdout",
     "output_type": "stream",
     "text": [
      "(3846, 25) (3846,)\n"
     ]
    }
   ],
   "source": [
    "print(X.shape, Y.shape)"
   ]
  },
  {
   "cell_type": "code",
   "execution_count": 15,
   "id": "18e016ce",
   "metadata": {},
   "outputs": [
    {
     "name": "stdout",
     "output_type": "stream",
     "text": [
      "[[ 0.33275172 -0.22485198 -0.11576039 -0.24245677  0.44447863 -0.4166138\n",
      "   0.90837158  0.14377952 -1.16044248  0.81656704 -0.52566024  0.07829928\n",
      "   0.71510415 -1.70912116  0.03218648 -0.1338218   1.6248029  -0.10892619\n",
      "   0.18371079  0.21721239 -0.35891956 -0.6753584   0.63809963 -1.3245095\n",
      "   1.04329319]\n",
      " [ 1.60263126 -0.84564119 -0.21437276 -0.30021266  1.01935615 -0.63616671\n",
      "   0.22456723 -1.0992883   1.19769139 -0.01107955  0.00967655  0.65362816\n",
      "  -0.52385556 -0.6446248   0.15504811  0.52119848 -1.27481145  1.21308249\n",
      "   0.00774231 -0.92051062 -0.16291253  0.37300411  0.09656484  0.412972\n",
      "  -0.26319051]\n",
      " [-1.77265805  0.21366389 -0.09513448  0.98359762 -0.79963345  0.42603834\n",
      "  -0.44377036 -0.17091202 -0.09718888  1.0919089  -1.03629328  0.11679882\n",
      "   0.34428562  0.90453612 -1.44778391  1.48168726 -1.483693    1.76072211\n",
      "  -1.01561653  1.01621977 -0.74383114  0.26883612 -1.40015157  0.48723834\n",
      "  -0.3252208 ]\n",
      " [-0.35482496  0.39851092  0.19255963 -0.700231    1.25664925 -0.25174133\n",
      "  -0.60242393  0.51571713 -0.85861509  0.96401197  0.7066994  -1.22145449\n",
      "   0.69768286 -1.07122504  1.16905868 -0.85384222 -0.21242946  0.80664315\n",
      "  -1.13281078  1.61766497 -1.64848911  1.34624212 -0.81561713  0.9303721\n",
      "   0.45398905]\n",
      " [ 0.65480838  0.03176919 -0.03958005 -0.69834055  1.45933476 -1.01124727\n",
      "   0.79856659 -0.29385879 -0.80408465  1.03272174 -0.83458416  0.96919491\n",
      "  -0.59966065  0.60092498 -0.37840754  0.06544538 -0.4478598   0.90951851\n",
      "  -0.62418687 -0.4402703   0.36507633 -1.17440003  0.56476324  0.71719744\n",
      "  -0.74019186]\n",
      " [-0.37849346 -0.58658927  0.32561652  0.54336517  0.0418157  -0.03309502\n",
      "   0.15775114 -0.0021951  -0.44136967  0.93025632 -1.05796945  0.13660611\n",
      "   0.91211686 -0.17145873 -0.20461081 -1.20732339  1.63851145 -0.41048263\n",
      "   0.56921141 -1.6987974   1.43735551 -1.41126625  0.90613326 -0.98347916\n",
      "   1.44837649]\n",
      " [-0.47643644 -0.32383488 -0.6760326   1.25652356 -0.48777218  0.53702583\n",
      "   0.28865345  0.21827836 -0.23943633 -1.68817852  0.69652796  0.740025\n",
      "  -1.11672177  0.69881386 -0.93339724  0.29131707 -0.36294946  1.55035182\n",
      "  -1.13954603  0.24285399  1.16545923 -0.44733378 -1.34515094  0.26571045\n",
      "   0.91356849]\n",
      " [-0.67867153  1.39264235 -0.64049608 -0.15666631  0.10855435  0.28042411\n",
      "  -0.83635407  0.17255213 -0.37675463 -0.04730149  1.51635877 -0.40964319\n",
      "  -0.49818397 -0.52608836  0.05388371 -0.39265464  0.75277493 -0.24524149\n",
      "   0.76909521 -0.6371833  -0.39629632 -0.3098499   0.08514181  1.22428628\n",
      "  -0.45139186]\n",
      " [ 0.72018416  0.18733531 -1.54688393  0.89236244 -0.79951165 -0.48534275\n",
      "   1.47545531 -0.87672301  0.12689349  0.40970644  0.48546268 -0.40413322\n",
      "   0.48733762 -1.19821724  1.0490096  -1.22482178  1.53431143 -0.53060676\n",
      "  -0.9439612   1.46372583 -0.43302957 -0.95382833 -0.08125933  0.60977747\n",
      "  -0.98507599]\n",
      " [ 0.43443079 -0.10103098  0.17881089 -0.37189344  0.61831128  0.55414252\n",
      "  -1.4926475   0.7996945  -0.770622    1.16958315 -0.64159996  0.33872322\n",
      "  -0.76428295 -0.07686415  0.68641704 -0.26488709  1.16963841 -0.35021338\n",
      "  -0.03332327  0.31011224 -1.64059461  0.93754007  0.0645672   0.75492062\n",
      "  -1.3395777 ]] [-1.  1.  1. -1.  1. -1. -1.  1.  1. -1.]\n"
     ]
    }
   ],
   "source": [
    "print(X[:10], Y[:10])"
   ]
  },
  {
   "cell_type": "code",
   "execution_count": 25,
   "id": "c9640b57",
   "metadata": {},
   "outputs": [
    {
     "name": "stdout",
     "output_type": "stream",
     "text": [
      "98.0 8.0\n"
     ]
    }
   ],
   "source": [
    "print(sum(Y_train), sum(Y_test))"
   ]
  },
  {
   "cell_type": "code",
   "execution_count": null,
   "id": "db77710b",
   "metadata": {},
   "outputs": [],
   "source": []
  }
 ],
 "metadata": {
  "kernelspec": {
   "display_name": "Python 3",
   "language": "python",
   "name": "python3"
  },
  "language_info": {
   "codemirror_mode": {
    "name": "ipython",
    "version": 3
   },
   "file_extension": ".py",
   "mimetype": "text/x-python",
   "name": "python",
   "nbconvert_exporter": "python",
   "pygments_lexer": "ipython3",
   "version": "3.7.11"
  }
 },
 "nbformat": 4,
 "nbformat_minor": 5
}
