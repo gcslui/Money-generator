{
 "cells": [
  {
   "cell_type": "code",
   "execution_count": 4,
   "id": "a1f6f60f",
   "metadata": {},
   "outputs": [],
   "source": [
    "%load_ext autoreload\n",
    "%autoreload 2"
   ]
  },
  {
   "cell_type": "code",
   "execution_count": 4,
   "id": "ab6c4844",
   "metadata": {},
   "outputs": [],
   "source": [
    "from src.db_class import FinanceDB"
   ]
  },
  {
   "cell_type": "markdown",
   "id": "9cd707ef",
   "metadata": {},
   "source": [
    "## From a fresh start, initialize DB:"
   ]
  },
  {
   "cell_type": "code",
   "execution_count": 5,
   "id": "af61d4c3",
   "metadata": {},
   "outputs": [],
   "source": [
    "stocksDB = FinanceDB(\"chris_test.db\") "
   ]
  },
  {
   "cell_type": "markdown",
   "id": "3388e0d5",
   "metadata": {},
   "source": [
    "## Add some tickers to populate DB"
   ]
  },
  {
   "cell_type": "code",
   "execution_count": 10,
   "id": "86da5007",
   "metadata": {},
   "outputs": [
    {
     "name": "stdout",
     "output_type": "stream",
     "text": [
      "/media/houdini/0139245001B836F3/MGenerator/Money-generator/financial_db/chris_test.db\n",
      "MSFT  data downloaded and populated in tables. \n",
      "/media/houdini/0139245001B836F3/MGenerator/Money-generator/financial_db/chris_test.db\n",
      "AAPL  data downloaded and populated in tables. \n",
      "/media/houdini/0139245001B836F3/MGenerator/Money-generator/financial_db/chris_test.db\n",
      "HUT  data downloaded and populated in tables. \n",
      "/media/houdini/0139245001B836F3/MGenerator/Money-generator/financial_db/chris_test.db\n",
      "HUT.TO  data downloaded and populated in tables. \n",
      "/media/houdini/0139245001B836F3/MGenerator/Money-generator/financial_db/chris_test.db\n",
      "SPY  data downloaded and populated in tables. \n",
      "/media/houdini/0139245001B836F3/MGenerator/Money-generator/financial_db/chris_test.db\n",
      "CADUSD=X  data downloaded and populated in tables. \n",
      "/media/houdini/0139245001B836F3/MGenerator/Money-generator/financial_db/chris_test.db\n",
      "BTC-USD  data downloaded and populated in tables. \n",
      "/media/houdini/0139245001B836F3/MGenerator/Money-generator/financial_db/chris_test.db\n",
      "ETH-USD  data downloaded and populated in tables. \n",
      "/media/houdini/0139245001B836F3/MGenerator/Money-generator/financial_db/chris_test.db\n",
      "ETHX-U.TO  data downloaded and populated in tables. \n"
     ]
    }
   ],
   "source": [
    "stocksDB.add_tickers()"
   ]
  },
  {
   "cell_type": "markdown",
   "id": "15316ff3",
   "metadata": {},
   "source": [
    "## What does a table look like?"
   ]
  },
  {
   "cell_type": "code",
   "execution_count": 14,
   "id": "d33ca447",
   "metadata": {
    "scrolled": true
   },
   "outputs": [
    {
     "name": "stdout",
     "output_type": "stream",
     "text": [
      "[(1, 'MSFT', 'Microsoft Corporation', 'Microsoft Corporation', 'NMS', 'USD', 'EQUITY', 'Technology', 'Software—Infrastructure', 'us_market', 'United States', 181000, 'https://www.microsoft.com'), (2, 'AAPL', 'Apple Inc.', 'Apple Inc.', 'NMS', 'USD', 'EQUITY', 'Technology', 'Consumer Electronics', 'us_market', 'United States', 154000, 'https://www.apple.com'), (3, 'HUT', 'Hut 8 Mining Corp.', 'Hut 8 Mining Corp.', 'NMS', 'USD', 'EQUITY', 'Financial Services', 'Capital Markets', 'us_market', 'Canada', 30, 'https://hut8mining.com'), (4, 'HUT.TO', 'HUT 8 MINING CORP', 'Hut 8 Mining Corp.', 'TOR', 'CAD', 'EQUITY', 'Financial Services', 'Capital Markets', 'ca_market', 'Canada', 30, 'https://hut8mining.com'), (5, 'SPY', 'SPDR S&P 500', 'SPDR S&P 500 ETF Trust', 'PCX', 'USD', 'ETF', None, None, 'us_market', None, None, None), (6, 'CADUSD=X', 'CAD/USD', None, 'CCY', 'USD', 'CURRENCY', None, None, 'ccy_market', None, None, None), (7, 'BTC-USD', 'Bitcoin USD', None, 'CCC', 'USD', 'CRYPTOCURRENCY', None, None, 'ccc_market', None, None, None), (8, 'ETH-USD', 'Ethereum USD', None, 'CCC', 'USD', 'CRYPTOCURRENCY', None, None, 'ccc_market', None, None, None), (9, 'ETHX-U.TO', 'CI GALAXY ETHEREUM ETF USD', 'CI Galaxy Ethereum ETF', 'TOR', 'USD', 'ETF', None, None, 'ca_market', None, None, None)]\n",
      "['AAPL', 'BTC-USD', 'CADUSD=X', 'ETH-USD', 'ETHX-U.TO', 'HUT', 'HUT.TO', 'MSFT', 'SPY']\n",
      "                  date      open      high       low     close  \\\n",
      "0  1980-12-12 00:00:00  0.128348  0.128906  0.128348  0.128348   \n",
      "1  1980-12-15 00:00:00  0.122210  0.122210  0.121652  0.121652   \n",
      "2  1980-12-16 00:00:00  0.113281  0.113281  0.112723  0.112723   \n",
      "3  1980-12-17 00:00:00  0.115513  0.116071  0.115513  0.115513   \n",
      "4  1980-12-18 00:00:00  0.118862  0.119420  0.118862  0.118862   \n",
      "\n",
      "   adjusted_close     volume security_ticker  \n",
      "0        0.100453  469033600            AAPL  \n",
      "1        0.095213  175884800            AAPL  \n",
      "2        0.088224  105728000            AAPL  \n",
      "3        0.090408   86441600            AAPL  \n",
      "4        0.093029   73449600            AAPL  \n"
     ]
    }
   ],
   "source": [
    "print(stocksDB.get_table(\"security\"))\n",
    "print(stocksDB.get_present_tickers())\n",
    "print(stocksDB.get_daily_per_ticker(\"AAPL\").head())\n"
   ]
  }
 ],
 "metadata": {
  "kernelspec": {
   "display_name": "Python 3",
   "language": "python",
   "name": "python3"
  },
  "language_info": {
   "codemirror_mode": {
    "name": "ipython",
    "version": 3
   },
   "file_extension": ".py",
   "mimetype": "text/x-python",
   "name": "python",
   "nbconvert_exporter": "python",
   "pygments_lexer": "ipython3",
   "version": "3.6.9"
  }
 },
 "nbformat": 4,
 "nbformat_minor": 5
}
